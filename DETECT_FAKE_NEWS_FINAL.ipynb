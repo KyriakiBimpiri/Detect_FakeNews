{
 "cells": [
  {
   "cell_type": "markdown",
   "id": "a2dcb72f",
   "metadata": {},
   "source": [
    "# DETECT FAKE NEWS"
   ]
  },
  {
   "attachments": {},
   "cell_type": "markdown",
   "id": "f0bcd62a",
   "metadata": {},
   "source": [
    "Team: Phonon <br>\n",
    "Kotsidou Irene ph4706 <br>\n",
    "Kyriaki Bimpiri ph4725 <br>\n",
    "Fotiadis Andreas ph5368 <br>\n",
    "<br>\n",
    "Date: 21.12.2021"
   ]
  },
  {
   "cell_type": "markdown",
   "id": "e231a8d7",
   "metadata": {},
   "source": [
    "<b> DATASET WITH THE SHAPE OF (20800, 5)\n"
   ]
  },
  {
   "cell_type": "markdown",
   "id": "914720d3",
   "metadata": {},
   "source": [
    "<B> IMPORT LIBRARIES"
   ]
  },
  {
   "cell_type": "code",
   "execution_count": 2,
   "id": "ae04297d",
   "metadata": {},
   "outputs": [],
   "source": [
    "import numpy as np \n",
    "import pandas as pd\n",
    "import matplotlib.pyplot as plt\n",
    "import nltk\n",
    "import itertools\n",
    "import time\n",
    "from sklearn.linear_model import LogisticRegression\n",
    "from sklearn.tree import DecisionTreeClassifier\n",
    "from sklearn.ensemble import RandomForestClassifier\n",
    "from sklearn.model_selection import train_test_split\n",
    "from sklearn.feature_extraction.text import TfidfVectorizer\n",
    "from sklearn.linear_model import PassiveAggressiveClassifier\n",
    "from sklearn.metrics import accuracy_score, confusion_matrix\n",
    "from sklearn.metrics import classification_report, precision_score, recall_score, f1_score\n",
    "from sklearn import metrics\n",
    "from xgboost import XGBClassifier\n",
    "from sklearn.svm import SVC\n",
    "from sklearn import datasets"
   ]
  },
  {
   "cell_type": "code",
   "execution_count": 3,
   "id": "11f94989",
   "metadata": {},
   "outputs": [
    {
     "name": "stderr",
     "output_type": "stream",
     "text": [
      "[nltk_data] Downloading package stopwords to\n",
      "[nltk_data]     C:\\Users\\Ειρήνη\\AppData\\Roaming\\nltk_data...\n",
      "[nltk_data]   Package stopwords is already up-to-date!\n"
     ]
    },
    {
     "data": {
      "text/plain": [
       "True"
      ]
     },
     "execution_count": 3,
     "metadata": {},
     "output_type": "execute_result"
    }
   ],
   "source": [
    "#nltk.download('punkt')\n",
    "#nltk.download('stopwords')\n",
    "import re\n",
    "from nltk.tokenize import word_tokenize\n",
    "from nltk.stem import SnowballStemmer, WordNetLemmatizer\n",
    "from nltk.corpus import stopwords\n",
    "from wordcloud import WordCloud, STOPWORDS\n",
    "from nltk.corpus import stopwords\n",
    "from nltk.stem.porter import PorterStemmer\n",
    "from sklearn.feature_extraction.text import TfidfVectorizer, CountVectorizer\n",
    "nltk.download('stopwords')\n"
   ]
  },
  {
   "cell_type": "markdown",
   "id": "da7ffc35",
   "metadata": {},
   "source": [
    "<b> LOAD, READ, PROCESS THE DATA SET"
   ]
  },
  {
   "cell_type": "code",
   "execution_count": 4,
   "id": "1d6c77bd",
   "metadata": {},
   "outputs": [
    {
     "name": "stdout",
     "output_type": "stream",
     "text": [
      "The shape of the dataset is (20800, 5)\n"
     ]
    }
   ],
   "source": [
    "#read the data \n",
    "news_dataset=pd.read_csv(r'C:\\Users\\Ειρήνη\\Desktop\\Πανεπιστήμιο\\Φ-252 - Machine Learning\\project\\train.csv')\n",
    "#Get shape and head\n",
    "print(\"The shape of the dataset is\" ,news_dataset.shape)"
   ]
  },
  {
   "cell_type": "code",
   "execution_count": 5,
   "id": "c5fe2f93",
   "metadata": {},
   "outputs": [
    {
     "data": {
      "text/html": [
       "<div>\n",
       "<style scoped>\n",
       "    .dataframe tbody tr th:only-of-type {\n",
       "        vertical-align: middle;\n",
       "    }\n",
       "\n",
       "    .dataframe tbody tr th {\n",
       "        vertical-align: top;\n",
       "    }\n",
       "\n",
       "    .dataframe thead th {\n",
       "        text-align: right;\n",
       "    }\n",
       "</style>\n",
       "<table border=\"1\" class=\"dataframe\">\n",
       "  <thead>\n",
       "    <tr style=\"text-align: right;\">\n",
       "      <th></th>\n",
       "      <th>id</th>\n",
       "      <th>title</th>\n",
       "      <th>author</th>\n",
       "      <th>text</th>\n",
       "      <th>label</th>\n",
       "    </tr>\n",
       "  </thead>\n",
       "  <tbody>\n",
       "    <tr>\n",
       "      <th>0</th>\n",
       "      <td>0</td>\n",
       "      <td>House Dem Aide: We Didn’t Even See Comey’s Let...</td>\n",
       "      <td>Darrell Lucus</td>\n",
       "      <td>House Dem Aide: We Didn’t Even See Comey’s Let...</td>\n",
       "      <td>1</td>\n",
       "    </tr>\n",
       "    <tr>\n",
       "      <th>1</th>\n",
       "      <td>1</td>\n",
       "      <td>FLYNN: Hillary Clinton, Big Woman on Campus - ...</td>\n",
       "      <td>Daniel J. Flynn</td>\n",
       "      <td>Ever get the feeling your life circles the rou...</td>\n",
       "      <td>0</td>\n",
       "    </tr>\n",
       "    <tr>\n",
       "      <th>2</th>\n",
       "      <td>2</td>\n",
       "      <td>Why the Truth Might Get You Fired</td>\n",
       "      <td>Consortiumnews.com</td>\n",
       "      <td>Why the Truth Might Get You Fired October 29, ...</td>\n",
       "      <td>1</td>\n",
       "    </tr>\n",
       "    <tr>\n",
       "      <th>3</th>\n",
       "      <td>3</td>\n",
       "      <td>15 Civilians Killed In Single US Airstrike Hav...</td>\n",
       "      <td>Jessica Purkiss</td>\n",
       "      <td>Videos 15 Civilians Killed In Single US Airstr...</td>\n",
       "      <td>1</td>\n",
       "    </tr>\n",
       "    <tr>\n",
       "      <th>4</th>\n",
       "      <td>4</td>\n",
       "      <td>Iranian woman jailed for fictional unpublished...</td>\n",
       "      <td>Howard Portnoy</td>\n",
       "      <td>Print \\nAn Iranian woman has been sentenced to...</td>\n",
       "      <td>1</td>\n",
       "    </tr>\n",
       "  </tbody>\n",
       "</table>\n",
       "</div>"
      ],
      "text/plain": [
       "   id                                              title              author  \\\n",
       "0   0  House Dem Aide: We Didn’t Even See Comey’s Let...       Darrell Lucus   \n",
       "1   1  FLYNN: Hillary Clinton, Big Woman on Campus - ...     Daniel J. Flynn   \n",
       "2   2                  Why the Truth Might Get You Fired  Consortiumnews.com   \n",
       "3   3  15 Civilians Killed In Single US Airstrike Hav...     Jessica Purkiss   \n",
       "4   4  Iranian woman jailed for fictional unpublished...      Howard Portnoy   \n",
       "\n",
       "                                                text  label  \n",
       "0  House Dem Aide: We Didn’t Even See Comey’s Let...      1  \n",
       "1  Ever get the feeling your life circles the rou...      0  \n",
       "2  Why the Truth Might Get You Fired October 29, ...      1  \n",
       "3  Videos 15 Civilians Killed In Single US Airstr...      1  \n",
       "4  Print \\nAn Iranian woman has been sentenced to...      1  "
      ]
     },
     "execution_count": 5,
     "metadata": {},
     "output_type": "execute_result"
    }
   ],
   "source": [
    "news_dataset.head()"
   ]
  },
  {
   "cell_type": "code",
   "execution_count": 6,
   "id": "b45ab309",
   "metadata": {},
   "outputs": [
    {
     "data": {
      "text/plain": [
       "id           0\n",
       "title      558\n",
       "author    1957\n",
       "text        39\n",
       "label        0\n",
       "dtype: int64"
      ]
     },
     "execution_count": 6,
     "metadata": {},
     "output_type": "execute_result"
    }
   ],
   "source": [
    "# check for missing values\n",
    "news_dataset.isnull().sum()"
   ]
  },
  {
   "cell_type": "code",
   "execution_count": 7,
   "id": "96c61f5a",
   "metadata": {},
   "outputs": [],
   "source": [
    "# dropping the nan values\n",
    "news_dataset = news_dataset.fillna('')"
   ]
  },
  {
   "cell_type": "code",
   "execution_count": 8,
   "id": "6b09cbf5",
   "metadata": {},
   "outputs": [],
   "source": [
    "# Remove all rows where complaints column is nan\n",
    "news_dataset.dropna(subset=['text'], inplace=True)"
   ]
  },
  {
   "cell_type": "code",
   "execution_count": 9,
   "id": "4ded7006",
   "metadata": {},
   "outputs": [
    {
     "data": {
      "text/plain": [
       "False    20387\n",
       "True       413\n",
       "dtype: int64"
      ]
     },
     "execution_count": 9,
     "metadata": {},
     "output_type": "execute_result"
    }
   ],
   "source": [
    "# check for C\n",
    "news_dataset.duplicated(subset=[\"text\"]).value_counts()"
   ]
  },
  {
   "cell_type": "code",
   "execution_count": 10,
   "id": "7312bb28",
   "metadata": {},
   "outputs": [
    {
     "data": {
      "text/html": [
       "<div>\n",
       "<style scoped>\n",
       "    .dataframe tbody tr th:only-of-type {\n",
       "        vertical-align: middle;\n",
       "    }\n",
       "\n",
       "    .dataframe tbody tr th {\n",
       "        vertical-align: top;\n",
       "    }\n",
       "\n",
       "    .dataframe thead th {\n",
       "        text-align: right;\n",
       "    }\n",
       "</style>\n",
       "<table border=\"1\" class=\"dataframe\">\n",
       "  <thead>\n",
       "    <tr style=\"text-align: right;\">\n",
       "      <th></th>\n",
       "      <th>id</th>\n",
       "      <th>title</th>\n",
       "      <th>author</th>\n",
       "      <th>text</th>\n",
       "      <th>label</th>\n",
       "    </tr>\n",
       "  </thead>\n",
       "  <tbody>\n",
       "    <tr>\n",
       "      <th>169</th>\n",
       "      <td>169</td>\n",
       "      <td>Mohamad Khweis: Another “Virginia Man” (Palest...</td>\n",
       "      <td>James Fulford</td>\n",
       "      <td></td>\n",
       "      <td>1</td>\n",
       "    </tr>\n",
       "    <tr>\n",
       "      <th>295</th>\n",
       "      <td>295</td>\n",
       "      <td>A Connecticut Reader Reports Record Voter Regi...</td>\n",
       "      <td>VDARE.com Reader</td>\n",
       "      <td></td>\n",
       "      <td>1</td>\n",
       "    </tr>\n",
       "    <tr>\n",
       "      <th>470</th>\n",
       "      <td>470</td>\n",
       "      <td>BULLETIN: There ARE Righteous Jews For Trump!;...</td>\n",
       "      <td>admin</td>\n",
       "      <td></td>\n",
       "      <td>1</td>\n",
       "    </tr>\n",
       "    <tr>\n",
       "      <th>480</th>\n",
       "      <td>480</td>\n",
       "      <td>Watch: Muslim ‘Palestinians’ Declare “We follo...</td>\n",
       "      <td>admin</td>\n",
       "      <td>jewsnews © 2015 | JEWSNEWS | It's not news...u...</td>\n",
       "      <td>1</td>\n",
       "    </tr>\n",
       "    <tr>\n",
       "      <th>573</th>\n",
       "      <td>573</td>\n",
       "      <td>Le top des recherches Google passe en top des ...</td>\n",
       "      <td></td>\n",
       "      <td></td>\n",
       "      <td>1</td>\n",
       "    </tr>\n",
       "  </tbody>\n",
       "</table>\n",
       "</div>"
      ],
      "text/plain": [
       "      id                                              title            author  \\\n",
       "169  169  Mohamad Khweis: Another “Virginia Man” (Palest...     James Fulford   \n",
       "295  295  A Connecticut Reader Reports Record Voter Regi...  VDARE.com Reader   \n",
       "470  470  BULLETIN: There ARE Righteous Jews For Trump!;...             admin   \n",
       "480  480  Watch: Muslim ‘Palestinians’ Declare “We follo...             admin   \n",
       "573  573  Le top des recherches Google passe en top des ...                     \n",
       "\n",
       "                                                  text  label  \n",
       "169                                                         1  \n",
       "295                                                         1  \n",
       "470                                                         1  \n",
       "480  jewsnews © 2015 | JEWSNEWS | It's not news...u...      1  \n",
       "573                                                         1  "
      ]
     },
     "execution_count": 10,
     "metadata": {},
     "output_type": "execute_result"
    }
   ],
   "source": [
    "dup = news_dataset[news_dataset.duplicated(subset=[\"text\"])]\n",
    "dup.head()"
   ]
  },
  {
   "cell_type": "code",
   "execution_count": 11,
   "id": "be5ae298",
   "metadata": {},
   "outputs": [
    {
     "data": {
      "text/plain": [
       "(413, 5)"
      ]
     },
     "execution_count": 11,
     "metadata": {},
     "output_type": "execute_result"
    }
   ],
   "source": [
    "dup.shape #duplicates"
   ]
  },
  {
   "cell_type": "code",
   "execution_count": 12,
   "id": "c0551241",
   "metadata": {},
   "outputs": [
    {
     "data": {
      "text/plain": [
       "(20387, 5)"
      ]
     },
     "execution_count": 12,
     "metadata": {},
     "output_type": "execute_result"
    }
   ],
   "source": [
    "# drop duplicates\n",
    "news_dataset = news_dataset.drop_duplicates(subset={\"text\"}, keep='first', inplace=False)\n",
    "news_dataset.shape"
   ]
  },
  {
   "cell_type": "code",
   "execution_count": 13,
   "id": "32c8b736",
   "metadata": {},
   "outputs": [],
   "source": [
    "news_dataset['data'] = news_dataset['text']+' '+news_dataset['title'] "
   ]
  },
  {
   "cell_type": "code",
   "execution_count": 14,
   "id": "68e81101",
   "metadata": {},
   "outputs": [
    {
     "name": "stdout",
     "output_type": "stream",
     "text": [
      "0        House Dem Aide: We Didn’t Even See Comey’s Let...\n",
      "1        Ever get the feeling your life circles the rou...\n",
      "2        Why the Truth Might Get You Fired October 29, ...\n",
      "3        Videos 15 Civilians Killed In Single US Airstr...\n",
      "4        Print \\nAn Iranian woman has been sentenced to...\n",
      "                               ...                        \n",
      "20795    Rapper T. I. unloaded on black celebrities who...\n",
      "20796    When the Green Bay Packers lost to the Washing...\n",
      "20797    The Macy’s of today grew from the union of sev...\n",
      "20798    NATO, Russia To Hold Parallel Exercises In Bal...\n",
      "20799      David Swanson is an author, activist, journa...\n",
      "Name: data, Length: 20387, dtype: object\n"
     ]
    }
   ],
   "source": [
    "print(news_dataset['data'])"
   ]
  },
  {
   "cell_type": "markdown",
   "id": "fdf66df9",
   "metadata": {},
   "source": [
    "<b> Preprocessing Text <br>\n"
   ]
  },
  {
   "cell_type": "code",
   "execution_count": 15,
   "id": "475c61cc",
   "metadata": {},
   "outputs": [
    {
     "name": "stdout",
     "output_type": "stream",
     "text": [
      "['i', 'me', 'my', 'myself', 'we', 'our', 'ours', 'ourselves', 'you', \"you're\", \"you've\", \"you'll\", \"you'd\", 'your', 'yours', 'yourself', 'yourselves', 'he', 'him', 'his', 'himself', 'she', \"she's\", 'her', 'hers', 'herself', 'it', \"it's\", 'its', 'itself', 'they', 'them', 'their', 'theirs', 'themselves', 'what', 'which', 'who', 'whom', 'this', 'that', \"that'll\", 'these', 'those', 'am', 'is', 'are', 'was', 'were', 'be', 'been', 'being', 'have', 'has', 'had', 'having', 'do', 'does', 'did', 'doing', 'a', 'an', 'the', 'and', 'but', 'if', 'or', 'because', 'as', 'until', 'while', 'of', 'at', 'by', 'for', 'with', 'about', 'against', 'between', 'into', 'through', 'during', 'before', 'after', 'above', 'below', 'to', 'from', 'up', 'down', 'in', 'out', 'on', 'off', 'over', 'under', 'again', 'further', 'then', 'once', 'here', 'there', 'when', 'where', 'why', 'how', 'all', 'any', 'both', 'each', 'few', 'more', 'most', 'other', 'some', 'such', 'no', 'nor', 'not', 'only', 'own', 'same', 'so', 'than', 'too', 'very', 's', 't', 'can', 'will', 'just', 'don', \"don't\", 'should', \"should've\", 'now', 'd', 'll', 'm', 'o', 're', 've', 'y', 'ain', 'aren', \"aren't\", 'couldn', \"couldn't\", 'didn', \"didn't\", 'doesn', \"doesn't\", 'hadn', \"hadn't\", 'hasn', \"hasn't\", 'haven', \"haven't\", 'isn', \"isn't\", 'ma', 'mightn', \"mightn't\", 'mustn', \"mustn't\", 'needn', \"needn't\", 'shan', \"shan't\", 'shouldn', \"shouldn't\", 'wasn', \"wasn't\", 'weren', \"weren't\", 'won', \"won't\", 'wouldn', \"wouldn't\"]\n"
     ]
    }
   ],
   "source": [
    "stopword_list = stopwords.words('english')\n",
    "print(stopword_list)"
   ]
  },
  {
   "cell_type": "code",
   "execution_count": 16,
   "id": "60279cf7",
   "metadata": {},
   "outputs": [],
   "source": [
    "stem_words = PorterStemmer()"
   ]
  },
  {
   "cell_type": "code",
   "execution_count": 17,
   "id": "e1f3701b",
   "metadata": {},
   "outputs": [],
   "source": [
    "def stemming(data):\n",
    "    stemmed_content = re.sub('[^a-zA-Z]',' ',data)\n",
    "    stemmed_content = stemmed_content.lower()\n",
    "    stemmed_content = stemmed_content.split()\n",
    "    stemmed_content = [stem_words.stem(word) for word in stemmed_content if not word in stopwords.words('english')]\n",
    "    stemmed_content = ' '.join(stemmed_content)\n",
    "    return stemmed_content"
   ]
  },
  {
   "cell_type": "code",
   "execution_count": 18,
   "id": "27eeb797",
   "metadata": {},
   "outputs": [],
   "source": [
    "news_dataset['data'] = news_dataset['data'].apply(stemming)"
   ]
  },
  {
   "cell_type": "code",
   "execution_count": 19,
   "id": "75606726",
   "metadata": {},
   "outputs": [
    {
     "data": {
      "image/png": "[encoded data removed]",
      "text/plain": [
       "<Figure size 1080x720 with 1 Axes>"
      ]
     },
     "metadata": {
      "needs_background": "light"
     },
     "output_type": "display_data"
    }
   ],
   "source": [
    "# visualizing\n",
    "stopwords = set(STOPWORDS)\n",
    "wordcloud = WordCloud(\n",
    "                        background_color='black',\n",
    "                        stopwords=stopwords,\n",
    "                        max_words=200, \n",
    "                        random_state=42).generate(str(news_dataset['data']))\n",
    "\n",
    "plt.figure(figsize=(15,10))\n",
    "plt.axis(\"off\")\n",
    "plt.title(\"Words frequented in text\", fontsize=15)\n",
    "plt.imshow(wordcloud.recolor(colormap= 'viridis' , random_state=42), alpha=0.98)\n",
    "plt.show()"
   ]
  },
  {
   "cell_type": "code",
   "execution_count": 20,
   "id": "36ba8e2e",
   "metadata": {},
   "outputs": [],
   "source": [
    "X = news_dataset['data'].values\n",
    "Y = news_dataset['label']"
   ]
  },
  {
   "cell_type": "code",
   "execution_count": 21,
   "id": "ab81f3b2",
   "metadata": {},
   "outputs": [],
   "source": [
    "# convert text to numbers \n",
    "vectorizer = TfidfVectorizer()\n",
    "vectorizer.fit(X)\n",
    "\n",
    "X = vectorizer.transform(X)"
   ]
  },
  {
   "cell_type": "code",
   "execution_count": 22,
   "id": "36894a7d",
   "metadata": {},
   "outputs": [
    {
     "name": "stdout",
     "output_type": "stream",
     "text": [
      "  (0, 108970)\t0.04986597167065573\n",
      "  (0, 108917)\t0.01923977923976946\n",
      "  (0, 107970)\t0.04476988695342367\n",
      "  (0, 107966)\t0.09630179297814309\n",
      "  (0, 107923)\t0.038139107877236914\n",
      "  (0, 107886)\t0.011443818617132928\n",
      "  (0, 107242)\t0.017334840860641895\n",
      "  (0, 106433)\t0.017307363816974793\n",
      "  (0, 106345)\t0.012686801883994068\n",
      "  (0, 106259)\t0.029588272809310385\n",
      "  (0, 106181)\t0.012992364846329946\n",
      "  (0, 105981)\t0.011913270780594457\n",
      "  (0, 105136)\t0.026134348667485218\n",
      "  (0, 105100)\t0.03174005048217852\n",
      "  (0, 104098)\t0.021879569902139368\n",
      "  (0, 102692)\t0.0663076663261869\n",
      "  (0, 102006)\t0.03358742096722263\n",
      "  (0, 101755)\t0.016599182417650977\n",
      "  (0, 100987)\t0.038593005037593914\n",
      "  (0, 100349)\t0.011215197182532693\n",
      "  (0, 100339)\t0.0437131785722728\n",
      "  (0, 100286)\t0.13804780460073943\n",
      "  (0, 100138)\t0.07209150356728729\n",
      "  (0, 98854)\t0.04008255299584916\n",
      "  (0, 98289)\t0.02746786944421558\n",
      "  :\t:\n",
      "  (20386, 7425)\t0.010639797709860475\n",
      "  (20386, 7101)\t0.02821559498066002\n",
      "  (20386, 6808)\t0.04014227199265025\n",
      "  (20386, 6770)\t0.02542342318754521\n",
      "  (20386, 6490)\t0.04254331485760041\n",
      "  (20386, 6044)\t0.03163373213255437\n",
      "  (20386, 5832)\t0.04649040426511951\n",
      "  (20386, 5478)\t0.024116970171644648\n",
      "  (20386, 5206)\t0.04571468165003218\n",
      "  (20386, 3255)\t0.03456541855408259\n",
      "  (20386, 3026)\t0.05000582242107365\n",
      "  (20386, 2939)\t0.015329386336409179\n",
      "  (20386, 2700)\t0.04796885954779899\n",
      "  (20386, 2282)\t0.0894599689104559\n",
      "  (20386, 1986)\t0.023294075605900123\n",
      "  (20386, 1984)\t0.029476507621027923\n",
      "  (20386, 1941)\t0.033476339558831066\n",
      "  (20386, 1876)\t0.03382291909855966\n",
      "  (20386, 1022)\t0.01915905949336227\n",
      "  (20386, 898)\t0.0389649681752581\n",
      "  (20386, 868)\t0.01384942111251014\n",
      "  (20386, 810)\t0.04189510051111812\n",
      "  (20386, 556)\t0.024562155133324517\n",
      "  (20386, 321)\t0.01540019524458247\n",
      "  (20386, 304)\t0.01907289766785779\n"
     ]
    }
   ],
   "source": [
    "print(X)"
   ]
  },
  {
   "cell_type": "code",
   "execution_count": 23,
   "id": "49505f77",
   "metadata": {},
   "outputs": [
    {
     "name": "stdout",
     "output_type": "stream",
     "text": [
      "0        1\n",
      "1        0\n",
      "2        1\n",
      "3        1\n",
      "4        1\n",
      "        ..\n",
      "20795    0\n",
      "20796    0\n",
      "20797    0\n",
      "20798    1\n",
      "20799    1\n",
      "Name: label, Length: 20387, dtype: int64\n"
     ]
    }
   ],
   "source": [
    "print(Y)"
   ]
  },
  {
   "cell_type": "code",
   "execution_count": 24,
   "id": "e8de9d3d",
   "metadata": {},
   "outputs": [],
   "source": [
    "# split the data \n",
    "seed = 124\n",
    "X_train, X_test, Y_train, Y_test = train_test_split(X, Y, test_size=0.2, stratify=Y, random_state=seed)"
   ]
  },
  {
   "cell_type": "markdown",
   "id": "05cba761",
   "metadata": {},
   "source": [
    "<b> LOGISTIC REGRESSION "
   ]
  },
  {
   "cell_type": "code",
   "execution_count": 25,
   "id": "408a62da",
   "metadata": {},
   "outputs": [
    {
     "name": "stdout",
     "output_type": "stream",
     "text": [
      "Accuracy score on the training data:  0.9754736648476301\n",
      "Accuracy score on the test data:  0.9453163315350662\n"
     ]
    }
   ],
   "source": [
    "LR = LogisticRegression()\n",
    "\n",
    "LR.fit(X_train, Y_train)\n",
    "\n",
    "# Accuracy Score on Training Data\n",
    "X_train_prediction = LR.predict(X_train)\n",
    "training_data_accuracy = accuracy_score(X_train_prediction, Y_train)\n",
    "\n",
    "print('Accuracy score on the training data: ',training_data_accuracy)\n",
    "\n",
    "# Accuracy Score on Test Data\n",
    "X_test_prediction = LR.predict(X_test)\n",
    "test_data_accuracy = accuracy_score(X_test_prediction, Y_test)\n",
    "\n",
    "print('Accuracy score on the test data: ',test_data_accuracy)"
   ]
  },
  {
   "cell_type": "code",
   "execution_count": 26,
   "id": "273f88e2",
   "metadata": {},
   "outputs": [
    {
     "name": "stdout",
     "output_type": "stream",
     "text": [
      "              precision    recall  f1-score   support\n",
      "\n",
      "        FAKE       0.95      0.94      0.95      2078\n",
      "        REAL       0.94      0.95      0.94      2000\n",
      "\n",
      "    accuracy                           0.95      4078\n",
      "   macro avg       0.95      0.95      0.95      4078\n",
      "weighted avg       0.95      0.95      0.95      4078\n",
      "\n"
     ]
    }
   ],
   "source": [
    "# classification report \n",
    "target_names = ['FAKE', 'REAL']\n",
    "y_pred = LR.predict(X_test)\n",
    "print(classification_report(Y_test, y_pred, target_names=target_names))"
   ]
  },
  {
   "cell_type": "code",
   "execution_count": 27,
   "id": "a4c9212d",
   "metadata": {},
   "outputs": [
    {
     "data": {
      "text/plain": [
       "array([[1957,  121],\n",
       "       [ 102, 1898]], dtype=int64)"
      ]
     },
     "execution_count": 27,
     "metadata": {},
     "output_type": "execute_result"
    }
   ],
   "source": [
    "# Build confusion matrix\n",
    "cm_LR = confusion_matrix(Y_test,X_test_prediction)\n",
    "cm_LR"
   ]
  },
  {
   "cell_type": "code",
   "execution_count": 28,
   "id": "538992d1",
   "metadata": {},
   "outputs": [
    {
     "data": {
      "image/png": "[encoded data removed]",
      "text/plain": [
       "<Figure size 432x288 with 2 Axes>"
      ]
     },
     "metadata": {
      "needs_background": "light"
     },
     "output_type": "display_data"
    }
   ],
   "source": [
    "# plot cm\n",
    "import seaborn as sns\n",
    "group_names = ['True Neg','False Pos','False Neg','True Pos']\n",
    "\n",
    "group_counts = [\"{0:0.0f}\".format(value) for value in\n",
    "                cm_LR.flatten()]\n",
    "\n",
    "group_percentages = [\"{0:.2%}\".format(value) for value in\n",
    "                     cm_LR.flatten()/np.sum(cm_LR)]\n",
    "\n",
    "labels = [f\"{v1}\\n{v2}\\n{v3}\" for v1, v2, v3 in\n",
    "          zip(group_names,group_counts,group_percentages)]\n",
    "\n",
    "labels = np.asarray(labels).reshape(2,2)\n",
    "\n",
    "ax = sns.heatmap(cm_LR, annot=labels, fmt='', cmap='Reds')\n",
    "\n",
    "ax.set_title('Seaborn Confusion Matrix with labels\\n\\n');\n",
    "ax.set_xlabel('\\nPredicted Values')\n",
    "ax.set_ylabel('Actual Values ');\n",
    "\n",
    "## Ticket labels - List must be in alphabetical order\n",
    "ax.xaxis.set_ticklabels(['False','True'])\n",
    "ax.yaxis.set_ticklabels(['False','True'])\n",
    "\n",
    "## Display the visualization of the Confusion Matrix.\n",
    "plt.show()"
   ]
  },
  {
   "cell_type": "code",
   "execution_count": 29,
   "id": "9950cb87",
   "metadata": {},
   "outputs": [
    {
     "data": {
      "text/plain": [
       "array([0.94531633, 0.94006934, 0.949     , 0.94451356])"
      ]
     },
     "execution_count": 29,
     "metadata": {},
     "output_type": "execute_result"
    }
   ],
   "source": [
    "LR_result = np.array([accuracy_score(Y_test, y_pred),precision_score(Y_test, y_pred), recall_score(Y_test, y_pred),\n",
    "             f1_score(Y_test, y_pred)])\n",
    "LR_result"
   ]
  },
  {
   "cell_type": "markdown",
   "id": "ab6179b7",
   "metadata": {},
   "source": [
    "<B> RANDOM FOREST"
   ]
  },
  {
   "cell_type": "code",
   "execution_count": 30,
   "id": "221661ae",
   "metadata": {},
   "outputs": [
    {
     "name": "stdout",
     "output_type": "stream",
     "text": [
      "Accuracy score on the training data:  0.9754736648476301\n",
      "Accuracy score on the test data:  0.8128984796468858\n"
     ]
    }
   ],
   "source": [
    "RF = RandomForestClassifier(n_estimators = 20, max_features=20, random_state=seed)\n",
    "\n",
    "RF.fit(X_train, Y_train)\n",
    "\n",
    "# Accuracy Score on Training Data\n",
    "X_train_prediction_RF = RF.predict(X_train)\n",
    "training_data_accuracy = accuracy_score(X_train_prediction, Y_train)\n",
    "\n",
    "print('Accuracy score on the training data: ',training_data_accuracy)\n",
    "\n",
    "# Accuracy Score on Test Data\n",
    "X_test_prediction_RF = RF.predict(X_test)\n",
    "test_data_accuracy = accuracy_score(X_test_prediction_RF, Y_test)\n",
    "\n",
    "print('Accuracy score on the test data: ',test_data_accuracy)"
   ]
  },
  {
   "cell_type": "code",
   "execution_count": 31,
   "id": "c5205966",
   "metadata": {},
   "outputs": [
    {
     "name": "stdout",
     "output_type": "stream",
     "text": [
      "              precision    recall  f1-score   support\n",
      "\n",
      "        FAKE       0.78      0.87      0.83      2078\n",
      "        REAL       0.85      0.75      0.80      2000\n",
      "\n",
      "    accuracy                           0.81      4078\n",
      "   macro avg       0.82      0.81      0.81      4078\n",
      "weighted avg       0.82      0.81      0.81      4078\n",
      "\n"
     ]
    }
   ],
   "source": [
    "# classification report \n",
    "target_names = ['FAKE', 'REAL']\n",
    "y_pred_RF = RF.predict(X_test)\n",
    "print(classification_report(Y_test, y_pred_RF, target_names=target_names))"
   ]
  },
  {
   "cell_type": "code",
   "execution_count": 32,
   "id": "d031fb3a",
   "metadata": {},
   "outputs": [
    {
     "data": {
      "text/plain": [
       "array([[1812,  266],\n",
       "       [ 497, 1503]], dtype=int64)"
      ]
     },
     "execution_count": 32,
     "metadata": {},
     "output_type": "execute_result"
    }
   ],
   "source": [
    "# Build confusion matrix\n",
    "cm_rf = confusion_matrix(Y_test,X_test_prediction_RF)\n",
    "cm_rf"
   ]
  },
  {
   "cell_type": "code",
   "execution_count": 33,
   "id": "51ab8a4e",
   "metadata": {},
   "outputs": [
    {
     "data": {
      "image/png": "[encoded data removed]",
      "text/plain": [
       "<Figure size 432x288 with 2 Axes>"
      ]
     },
     "metadata": {
      "needs_background": "light"
     },
     "output_type": "display_data"
    }
   ],
   "source": [
    "#plot cm\n",
    "group_names = ['True Neg','False Pos','False Neg','True Pos']\n",
    "\n",
    "group_counts = [\"{0:0.0f}\".format(value) for value in\n",
    "                cm_rf.flatten()]\n",
    "\n",
    "group_percentages = [\"{0:.2%}\".format(value) for value in\n",
    "                     cm_rf.flatten()/np.sum(cm_rf)]\n",
    "\n",
    "labels = [f\"{v1}\\n{v2}\\n{v3}\" for v1, v2, v3 in\n",
    "          zip(group_names,group_counts,group_percentages)]\n",
    "\n",
    "labels = np.asarray(labels).reshape(2,2)\n",
    "\n",
    "ax = sns.heatmap(cm_rf, annot=labels, fmt='', cmap='Reds')\n",
    "\n",
    "ax.set_title('Seaborn Confusion Matrix with labels\\n\\n');\n",
    "ax.set_xlabel('\\nPredicted Values')\n",
    "ax.set_ylabel('Actual Values ');\n",
    "\n",
    "## Ticket labels - List must be in alphabetical order\n",
    "ax.xaxis.set_ticklabels(['False','True'])\n",
    "ax.yaxis.set_ticklabels(['False','True'])\n",
    "\n",
    "## Display the visualization of the Confusion Matrix.\n",
    "plt.show()"
   ]
  },
  {
   "cell_type": "code",
   "execution_count": 34,
   "id": "1cd2dbe6",
   "metadata": {},
   "outputs": [
    {
     "data": {
      "text/plain": [
       "array([0.81289848, 0.84963256, 0.7515    , 0.79755903])"
      ]
     },
     "execution_count": 34,
     "metadata": {},
     "output_type": "execute_result"
    }
   ],
   "source": [
    "RF_result = np.array([accuracy_score(Y_test, y_pred_RF), precision_score(Y_test, y_pred_RF), recall_score(Y_test, y_pred_RF), \n",
    "             f1_score(Y_test, y_pred_RF)])\n",
    "RF_result"
   ]
  },
  {
   "cell_type": "code",
   "execution_count": 35,
   "id": "fb8871d8",
   "metadata": {},
   "outputs": [
    {
     "name": "stdout",
     "output_type": "stream",
     "text": [
      "Accuracy score on the training data:  0.9754736648476301\n",
      "Accuracy score on the test data:  0.874448258950466\n"
     ]
    }
   ],
   "source": [
    "#random forest with more estimators \n",
    "\n",
    "RF2 = RandomForestClassifier(n_estimators = 100, max_features=50, random_state=seed)\n",
    "\n",
    "RF2.fit(X_train, Y_train)\n",
    "\n",
    "# Accuracy Score on Training Data\n",
    "X_train_prediction_RF2 = RF2.predict(X_train)\n",
    "training_data_accuracy = accuracy_score(X_train_prediction, Y_train)\n",
    "\n",
    "print('Accuracy score on the training data: ',training_data_accuracy)\n",
    "\n",
    "# Accuracy Score on Test Data\n",
    "X_test_prediction_RF2 = RF2.predict(X_test)\n",
    "test_data_accuracy = accuracy_score(X_test_prediction_RF2, Y_test)\n",
    "\n",
    "print('Accuracy score on the test data: ',test_data_accuracy)\n"
   ]
  },
  {
   "cell_type": "code",
   "execution_count": 36,
   "id": "cd015359",
   "metadata": {},
   "outputs": [
    {
     "name": "stdout",
     "output_type": "stream",
     "text": [
      "              precision    recall  f1-score   support\n",
      "\n",
      "        FAKE       0.85      0.92      0.88      2078\n",
      "        REAL       0.91      0.83      0.87      2000\n",
      "\n",
      "    accuracy                           0.87      4078\n",
      "   macro avg       0.88      0.87      0.87      4078\n",
      "weighted avg       0.88      0.87      0.87      4078\n",
      "\n"
     ]
    }
   ],
   "source": [
    "# classification report \n",
    "target_names = ['FAKE', 'REAL']\n",
    "y_pred_RF2 = RF2.predict(X_test)\n",
    "print(classification_report(Y_test, y_pred_RF2, target_names=target_names))"
   ]
  },
  {
   "cell_type": "code",
   "execution_count": 37,
   "id": "fca2010d",
   "metadata": {},
   "outputs": [
    {
     "data": {
      "text/plain": [
       "array([[1906,  172],\n",
       "       [ 340, 1660]], dtype=int64)"
      ]
     },
     "execution_count": 37,
     "metadata": {},
     "output_type": "execute_result"
    }
   ],
   "source": [
    "# Build confusion matrix\n",
    "cm_rf2 = confusion_matrix(Y_test,X_test_prediction_RF2)\n",
    "cm_rf2"
   ]
  },
  {
   "cell_type": "code",
   "execution_count": 38,
   "id": "213b2802",
   "metadata": {},
   "outputs": [
    {
     "data": {
      "image/png": "[encoded data removed]",
      "text/plain": [
       "<Figure size 432x288 with 2 Axes>"
      ]
     },
     "metadata": {
      "needs_background": "light"
     },
     "output_type": "display_data"
    }
   ],
   "source": [
    "#plot cm\n",
    "group_names = ['True Neg','False Pos','False Neg','True Pos']\n",
    "\n",
    "group_counts = [\"{0:0.0f}\".format(value) for value in\n",
    "                cm_rf2.flatten()]\n",
    "\n",
    "group_percentages = [\"{0:.2%}\".format(value) for value in\n",
    "                     cm_rf2.flatten()/np.sum(cm_rf2)]\n",
    "\n",
    "labels = [f\"{v1}\\n{v2}\\n{v3}\" for v1, v2, v3 in\n",
    "          zip(group_names,group_counts,group_percentages)]\n",
    "\n",
    "labels = np.asarray(labels).reshape(2,2)\n",
    "\n",
    "ax = sns.heatmap(cm_rf2, annot=labels, fmt='', cmap='Reds')\n",
    "\n",
    "ax.set_title('Seaborn Confusion Matrix with labels\\n\\n');\n",
    "ax.set_xlabel('\\nPredicted Values')\n",
    "ax.set_ylabel('Actual Values ');\n",
    "\n",
    "## Ticket labels - List must be in alphabetical order\n",
    "ax.xaxis.set_ticklabels(['False','True'])\n",
    "ax.yaxis.set_ticklabels(['False','True'])\n",
    "\n",
    "## Display the visualization of the Confusion Matrix.\n",
    "plt.show()"
   ]
  },
  {
   "cell_type": "code",
   "execution_count": 39,
   "id": "e80c3f41",
   "metadata": {},
   "outputs": [
    {
     "data": {
      "text/plain": [
       "array([0.87444826, 0.90611354, 0.83      , 0.86638831])"
      ]
     },
     "execution_count": 39,
     "metadata": {},
     "output_type": "execute_result"
    }
   ],
   "source": [
    "RF2_result = np.array([accuracy_score(Y_test, y_pred_RF2), precision_score(Y_test, y_pred_RF2), recall_score(Y_test, y_pred_RF2), \n",
    "             f1_score(Y_test, y_pred_RF2)])\n",
    "RF2_result"
   ]
  },
  {
   "cell_type": "markdown",
   "id": "bb51ef95",
   "metadata": {},
   "source": [
    "<b> SUPPORT VECTOR MACHINES"
   ]
  },
  {
   "cell_type": "code",
   "execution_count": 40,
   "id": "94591d24",
   "metadata": {},
   "outputs": [
    {
     "name": "stdout",
     "output_type": "stream",
     "text": [
      "Accuracy score on the training data:  1.0\n",
      "Accuracy score on the test data:  0.9580676802354096\n"
     ]
    }
   ],
   "source": [
    "svm_clf = SVC(kernel=\"linear\", C=float(\"inf\"))\n",
    "SVM = svm_clf.fit(X, Y)\n",
    "\n",
    "SVM.fit(X_train, Y_train)\n",
    "\n",
    "# Accuracy Score on Training Data\n",
    "X_train_prediction_SVM = SVM.predict(X_train)\n",
    "training_data_accuracy = accuracy_score(X_train_prediction_SVM, Y_train)\n",
    "\n",
    "print('Accuracy score on the training data: ',training_data_accuracy)\n",
    "\n",
    "# Accuracy Score on Test Data\n",
    "X_test_prediction_SVM = SVM.predict(X_test)\n",
    "test_data_accuracy = accuracy_score(X_test_prediction_SVM, Y_test)\n",
    "\n",
    "print('Accuracy score on the test data: ',test_data_accuracy)"
   ]
  },
  {
   "cell_type": "code",
   "execution_count": 41,
   "id": "df253dcd",
   "metadata": {},
   "outputs": [
    {
     "name": "stdout",
     "output_type": "stream",
     "text": [
      "              precision    recall  f1-score   support\n",
      "\n",
      "        FAKE       0.96      0.96      0.96      2078\n",
      "        REAL       0.95      0.96      0.96      2000\n",
      "\n",
      "    accuracy                           0.96      4078\n",
      "   macro avg       0.96      0.96      0.96      4078\n",
      "weighted avg       0.96      0.96      0.96      4078\n",
      "\n"
     ]
    }
   ],
   "source": [
    "# classification report \n",
    "target_names = ['FAKE', 'REAL']\n",
    "y_pred_SVM = SVM.predict(X_test)\n",
    "print(classification_report(Y_test, y_pred_SVM, target_names=target_names))"
   ]
  },
  {
   "cell_type": "code",
   "execution_count": 42,
   "id": "2fc0cd06",
   "metadata": {},
   "outputs": [
    {
     "data": {
      "text/plain": [
       "array([[1986,   92],\n",
       "       [  79, 1921]], dtype=int64)"
      ]
     },
     "execution_count": 42,
     "metadata": {},
     "output_type": "execute_result"
    }
   ],
   "source": [
    "# Build confusion matrix\n",
    "cm_svm = confusion_matrix(Y_test,X_test_prediction_SVM)\n",
    "cm_svm"
   ]
  },
  {
   "cell_type": "code",
   "execution_count": 43,
   "id": "24ba8931",
   "metadata": {},
   "outputs": [
    {
     "data": {
      "image/png": "[encoded data removed]",
      "text/plain": [
       "<Figure size 432x288 with 2 Axes>"
      ]
     },
     "metadata": {
      "needs_background": "light"
     },
     "output_type": "display_data"
    }
   ],
   "source": [
    "#plot cm\n",
    "group_names = ['True Neg','False Pos','False Neg','True Pos']\n",
    "\n",
    "group_counts = [\"{0:0.0f}\".format(value) for value in\n",
    "                cm_svm.flatten()]\n",
    "\n",
    "group_percentages = [\"{0:.2%}\".format(value) for value in\n",
    "                     cm_svm.flatten()/np.sum(cm_svm)]\n",
    "\n",
    "labels = [f\"{v1}\\n{v2}\\n{v3}\" for v1, v2, v3 in\n",
    "          zip(group_names,group_counts,group_percentages)]\n",
    "\n",
    "labels = np.asarray(labels).reshape(2,2)\n",
    "\n",
    "ax = sns.heatmap(cm_svm, annot=labels, fmt='', cmap='Reds')\n",
    "\n",
    "ax.set_title('Seaborn Confusion Matrix with labels\\n\\n');\n",
    "ax.set_xlabel('\\nPredicted Values')\n",
    "ax.set_ylabel('Actual Values ');\n",
    "\n",
    "## Ticket labels - List must be in alphabetical order\n",
    "ax.xaxis.set_ticklabels(['False','True'])\n",
    "ax.yaxis.set_ticklabels(['False','True'])\n",
    "\n",
    "## Display the visualization of the Confusion Matrix.\n",
    "plt.show()"
   ]
  },
  {
   "cell_type": "code",
   "execution_count": 44,
   "id": "351d0e92",
   "metadata": {},
   "outputs": [
    {
     "data": {
      "text/plain": [
       "array([0.95806768, 0.95429707, 0.9605    , 0.95738849])"
      ]
     },
     "execution_count": 44,
     "metadata": {},
     "output_type": "execute_result"
    }
   ],
   "source": [
    "SVM_result = np.array([accuracy_score(Y_test, y_pred_SVM), precision_score(Y_test, y_pred_SVM), recall_score(Y_test, y_pred_SVM), \n",
    "             f1_score(Y_test, y_pred_SVM)])\n",
    "SVM_result"
   ]
  },
  {
   "cell_type": "markdown",
   "id": "6f5cd28d",
   "metadata": {},
   "source": [
    "<B> XGBOOST"
   ]
  },
  {
   "cell_type": "code",
   "execution_count": 45,
   "id": "30ef2625",
   "metadata": {},
   "outputs": [
    {
     "name": "stderr",
     "output_type": "stream",
     "text": [
      "C:\\Users\\Ειρήνη\\AppData\\Roaming\\Python\\Python38\\site-packages\\xgboost\\sklearn.py:1224: UserWarning: The use of label encoder in XGBClassifier is deprecated and will be removed in a future release. To remove this warning, do the following: 1) Pass option use_label_encoder=False when constructing XGBClassifier object; and 2) Encode your labels (y) as integers starting with 0, i.e. 0, 1, 2, ..., [num_class - 1].\n",
      "  warnings.warn(label_encoder_deprecation_msg, UserWarning)\n"
     ]
    },
    {
     "name": "stdout",
     "output_type": "stream",
     "text": [
      "[16:56:11] WARNING: C:/Users/Administrator/workspace/xgboost-win64_release_1.5.0/src/learner.cc:1115: Starting in XGBoost 1.3.0, the default evaluation metric used with the objective 'binary:logistic' was changed from 'error' to 'logloss'. Explicitly set eval_metric if you'd like to restore the old behavior.\n",
      "Accuracy score on the training data:  0.9999386841621191\n",
      "Accuracy score on the test data:  0.9740068661108386\n"
     ]
    }
   ],
   "source": [
    "XGB = XGBClassifier()\n",
    "\n",
    "XGB.fit(X_train, Y_train)\n",
    "\n",
    "# Accuracy Score on Training Data\n",
    "X_train_prediction_XGB = XGB.predict(X_train)\n",
    "training_data_accuracy = accuracy_score(X_train_prediction_XGB, Y_train)\n",
    "\n",
    "print('Accuracy score on the training data: ',training_data_accuracy)\n",
    "\n",
    "# Accuracy Score on Test Data\n",
    "X_test_prediction_XGB = XGB.predict(X_test)\n",
    "test_data_accuracy = accuracy_score(X_test_prediction_XGB, Y_test)\n",
    "\n",
    "print('Accuracy score on the test data: ',test_data_accuracy)"
   ]
  },
  {
   "cell_type": "code",
   "execution_count": 46,
   "id": "780b33c0",
   "metadata": {},
   "outputs": [
    {
     "name": "stdout",
     "output_type": "stream",
     "text": [
      "              precision    recall  f1-score   support\n",
      "\n",
      "        FAKE       0.98      0.97      0.97      2078\n",
      "        REAL       0.97      0.97      0.97      2000\n",
      "\n",
      "    accuracy                           0.97      4078\n",
      "   macro avg       0.97      0.97      0.97      4078\n",
      "weighted avg       0.97      0.97      0.97      4078\n",
      "\n"
     ]
    }
   ],
   "source": [
    "# classification report \n",
    "target_names = ['FAKE', 'REAL']\n",
    "y_pred_XGB= XGB.predict(X_test)\n",
    "print(classification_report(Y_test, y_pred_XGB, target_names=target_names))"
   ]
  },
  {
   "cell_type": "code",
   "execution_count": 47,
   "id": "ee86f875",
   "metadata": {},
   "outputs": [
    {
     "data": {
      "text/plain": [
       "array([[2022,   56],\n",
       "       [  50, 1950]], dtype=int64)"
      ]
     },
     "execution_count": 47,
     "metadata": {},
     "output_type": "execute_result"
    }
   ],
   "source": [
    "# Build confusion matrix\n",
    "cm_xgb = confusion_matrix(Y_test,X_test_prediction_XGB)\n",
    "cm_xgb"
   ]
  },
  {
   "cell_type": "code",
   "execution_count": 48,
   "id": "c8cc5687",
   "metadata": {},
   "outputs": [
    {
     "data": {
      "image/png": "[encoded data removed]",
      "text/plain": [
       "<Figure size 432x288 with 2 Axes>"
      ]
     },
     "metadata": {
      "needs_background": "light"
     },
     "output_type": "display_data"
    }
   ],
   "source": [
    "#plot cm\n",
    "group_names = ['True Neg','False Pos','False Neg','True Pos']\n",
    "\n",
    "group_counts = [\"{0:0.0f}\".format(value) for value in\n",
    "                cm_xgb.flatten()]\n",
    "\n",
    "group_percentages = [\"{0:.2%}\".format(value) for value in\n",
    "                     cm_xgb.flatten()/np.sum(cm_xgb)]\n",
    "\n",
    "labels = [f\"{v1}\\n{v2}\\n{v3}\" for v1, v2, v3 in\n",
    "          zip(group_names,group_counts,group_percentages)]\n",
    "\n",
    "labels = np.asarray(labels).reshape(2,2)\n",
    "\n",
    "ax = sns.heatmap(cm_xgb, annot=labels, fmt='', cmap='Reds')\n",
    "\n",
    "ax.set_title('Seaborn Confusion Matrix with labels\\n\\n');\n",
    "ax.set_xlabel('\\nPredicted Values')\n",
    "ax.set_ylabel('Actual Values ');\n",
    "\n",
    "## Ticket labels - List must be in alphabetical order\n",
    "ax.xaxis.set_ticklabels(['False','True'])\n",
    "ax.yaxis.set_ticklabels(['False','True'])\n",
    "\n",
    "## Display the visualization of the Confusion Matrix.\n",
    "plt.show()"
   ]
  },
  {
   "cell_type": "code",
   "execution_count": 49,
   "id": "e671f914",
   "metadata": {},
   "outputs": [
    {
     "data": {
      "text/plain": [
       "array([0.97400687, 0.97208375, 0.975     , 0.97353969])"
      ]
     },
     "execution_count": 49,
     "metadata": {},
     "output_type": "execute_result"
    }
   ],
   "source": [
    "XGB_result = np.array([accuracy_score(Y_test, y_pred_XGB),precision_score(Y_test, y_pred_XGB), recall_score(Y_test, y_pred_XGB),\n",
    "             f1_score(Y_test, y_pred_XGB) ])\n",
    "XGB_result"
   ]
  },
  {
   "cell_type": "code",
   "execution_count": 50,
   "id": "b94ab121",
   "metadata": {},
   "outputs": [
    {
     "name": "stderr",
     "output_type": "stream",
     "text": [
      "C:\\Users\\Ειρήνη\\AppData\\Roaming\\Python\\Python38\\site-packages\\xgboost\\sklearn.py:1224: UserWarning: The use of label encoder in XGBClassifier is deprecated and will be removed in a future release. To remove this warning, do the following: 1) Pass option use_label_encoder=False when constructing XGBClassifier object; and 2) Encode your labels (y) as integers starting with 0, i.e. 0, 1, 2, ..., [num_class - 1].\n",
      "  warnings.warn(label_encoder_deprecation_msg, UserWarning)\n"
     ]
    },
    {
     "name": "stdout",
     "output_type": "stream",
     "text": [
      "[16:57:42] WARNING: C:/Users/Administrator/workspace/xgboost-win64_release_1.5.0/src/learner.cc:1115: Starting in XGBoost 1.3.0, the default evaluation metric used with the objective 'binary:logistic' was changed from 'error' to 'logloss'. Explicitly set eval_metric if you'd like to restore the old behavior.\n",
      "Accuracy score on the training data:  0.9800723526886995\n",
      "Accuracy score on the test data:  0.9583128984796468\n"
     ]
    }
   ],
   "source": [
    "XGB2 = XGBClassifier(max_depth=7, learning_rate=0.2, \n",
    "                        n_estimators=20,)\n",
    "\n",
    "XGB2.fit(X_train, Y_train)\n",
    "\n",
    "# Accuracy Score on Training Data\n",
    "X_train_prediction_XGB2 = XGB2.predict(X_train)\n",
    "training_data_accuracy = accuracy_score(X_train_prediction_XGB2, Y_train)\n",
    "\n",
    "print('Accuracy score on the training data: ',training_data_accuracy)\n",
    "\n",
    "# Accuracy Score on Test Data\n",
    "X_test_prediction_XGB2 = XGB2.predict(X_test)\n",
    "test_data_accuracy = accuracy_score(X_test_prediction_XGB2, Y_test)\n",
    "\n",
    "print('Accuracy score on the test data: ',test_data_accuracy)"
   ]
  },
  {
   "cell_type": "code",
   "execution_count": 51,
   "id": "e1c09af6",
   "metadata": {},
   "outputs": [
    {
     "name": "stdout",
     "output_type": "stream",
     "text": [
      "              precision    recall  f1-score   support\n",
      "\n",
      "        FAKE       0.97      0.95      0.96      2078\n",
      "        REAL       0.95      0.97      0.96      2000\n",
      "\n",
      "    accuracy                           0.96      4078\n",
      "   macro avg       0.96      0.96      0.96      4078\n",
      "weighted avg       0.96      0.96      0.96      4078\n",
      "\n"
     ]
    }
   ],
   "source": [
    "# classification report \n",
    "target_names = ['FAKE', 'REAL']\n",
    "y_pred_XGB2= XGB2.predict(X_test)\n",
    "print(classification_report(Y_test, y_pred_XGB2, target_names=target_names))"
   ]
  },
  {
   "cell_type": "code",
   "execution_count": 52,
   "id": "4193b8fa",
   "metadata": {},
   "outputs": [
    {
     "data": {
      "text/plain": [
       "array([[1975,  103],\n",
       "       [  67, 1933]], dtype=int64)"
      ]
     },
     "execution_count": 52,
     "metadata": {},
     "output_type": "execute_result"
    }
   ],
   "source": [
    "# Build confusion matrix\n",
    "cm_xgb2 = confusion_matrix(Y_test,X_test_prediction_XGB2)\n",
    "cm_xgb2"
   ]
  },
  {
   "cell_type": "code",
   "execution_count": 53,
   "id": "a629575a",
   "metadata": {},
   "outputs": [
    {
     "data": {
      "image/png": "[encoded data removed]",
      "text/plain": [
       "<Figure size 432x288 with 2 Axes>"
      ]
     },
     "metadata": {
      "needs_background": "light"
     },
     "output_type": "display_data"
    }
   ],
   "source": [
    "#plot cm\n",
    "group_names = ['True Neg','False Pos','False Neg','True Pos']\n",
    "\n",
    "group_counts = [\"{0:0.0f}\".format(value) for value in\n",
    "                cm_xgb.flatten()]\n",
    "\n",
    "group_percentages = [\"{0:.2%}\".format(value) for value in\n",
    "                     cm_xgb2.flatten()/np.sum(cm_xgb2)]\n",
    "\n",
    "labels = [f\"{v1}\\n{v2}\\n{v3}\" for v1, v2, v3 in\n",
    "          zip(group_names,group_counts,group_percentages)]\n",
    "\n",
    "labels = np.asarray(labels).reshape(2,2)\n",
    "\n",
    "ax = sns.heatmap(cm_xgb2, annot=labels, fmt='', cmap='Reds')\n",
    "\n",
    "ax.set_title('Seaborn Confusion Matrix with labels\\n\\n');\n",
    "ax.set_xlabel('\\nPredicted Values')\n",
    "ax.set_ylabel('Actual Values ');\n",
    "\n",
    "## Ticket labels - List must be in alphabetical order\n",
    "ax.xaxis.set_ticklabels(['False','True'])\n",
    "ax.yaxis.set_ticklabels(['False','True'])\n",
    "\n",
    "## Display the visualization of the Confusion Matrix.\n",
    "plt.show()"
   ]
  },
  {
   "cell_type": "code",
   "execution_count": 54,
   "id": "adb53e42",
   "metadata": {},
   "outputs": [
    {
     "data": {
      "text/plain": [
       "array([0.9583129 , 0.94941061, 0.9665    , 0.95787909])"
      ]
     },
     "execution_count": 54,
     "metadata": {},
     "output_type": "execute_result"
    }
   ],
   "source": [
    "XGB2_result = np.array([accuracy_score(Y_test, y_pred_XGB2),precision_score(Y_test, y_pred_XGB2), recall_score(Y_test, y_pred_XGB2),\n",
    "             f1_score(Y_test, y_pred_XGB2) ])\n",
    "XGB2_result"
   ]
  },
  {
   "cell_type": "markdown",
   "id": "cf68b1bf",
   "metadata": {},
   "source": [
    "<B> DECISION TREE"
   ]
  },
  {
   "cell_type": "code",
   "execution_count": 55,
   "id": "04e6bf49",
   "metadata": {},
   "outputs": [
    {
     "name": "stdout",
     "output_type": "stream",
     "text": [
      "Accuracy score on the training data:  1.0\n",
      "Accuracy score on the test data:  0.9337910740559098\n"
     ]
    }
   ],
   "source": [
    "DT = DecisionTreeClassifier()\n",
    "\n",
    "DT.fit(X_train, Y_train)\n",
    "\n",
    "# Accuracy Score on Training Data\n",
    "X_train_prediction_DT = DT.predict(X_train)\n",
    "training_data_accuracy = accuracy_score(X_train_prediction_DT, Y_train)\n",
    "\n",
    "print('Accuracy score on the training data: ',training_data_accuracy)\n",
    "\n",
    "# Accuracy Score on Test Data\n",
    "X_test_prediction_DT = DT.predict(X_test)\n",
    "test_data_accuracy = accuracy_score(X_test_prediction_DT, Y_test)\n",
    "\n",
    "print('Accuracy score on the test data: ',test_data_accuracy)"
   ]
  },
  {
   "cell_type": "code",
   "execution_count": 56,
   "id": "b612f12f",
   "metadata": {},
   "outputs": [
    {
     "name": "stdout",
     "output_type": "stream",
     "text": [
      "              precision    recall  f1-score   support\n",
      "\n",
      "        FAKE       0.94      0.93      0.93      2078\n",
      "        REAL       0.93      0.93      0.93      2000\n",
      "\n",
      "    accuracy                           0.93      4078\n",
      "   macro avg       0.93      0.93      0.93      4078\n",
      "weighted avg       0.93      0.93      0.93      4078\n",
      "\n"
     ]
    }
   ],
   "source": [
    "# classification report \n",
    "target_names = ['FAKE', 'REAL']\n",
    "y_pred_DT= DT.predict(X_test)\n",
    "print(classification_report(Y_test, y_pred_DT, target_names=target_names))"
   ]
  },
  {
   "cell_type": "code",
   "execution_count": 57,
   "id": "7f702205",
   "metadata": {},
   "outputs": [
    {
     "data": {
      "text/plain": [
       "array([[1939,  139],\n",
       "       [ 131, 1869]], dtype=int64)"
      ]
     },
     "execution_count": 57,
     "metadata": {},
     "output_type": "execute_result"
    }
   ],
   "source": [
    "# Build confusion matrix\n",
    "cm_dt = confusion_matrix(Y_test,X_test_prediction_DT)\n",
    "cm_dt"
   ]
  },
  {
   "cell_type": "code",
   "execution_count": 58,
   "id": "6f710d10",
   "metadata": {},
   "outputs": [
    {
     "data": {
      "image/png": "[encoded data removed]",
      "text/plain": [
       "<Figure size 432x288 with 2 Axes>"
      ]
     },
     "metadata": {
      "needs_background": "light"
     },
     "output_type": "display_data"
    }
   ],
   "source": [
    "#plot cm\n",
    "group_names = ['True Neg','False Pos','False Neg','True Pos']\n",
    "\n",
    "group_counts = [\"{0:0.0f}\".format(value) for value in\n",
    "                cm_dt.flatten()]\n",
    "\n",
    "group_percentages = [\"{0:.2%}\".format(value) for value in\n",
    "                     cm_dt.flatten()/np.sum(cm_dt)]\n",
    "\n",
    "labels = [f\"{v1}\\n{v2}\\n{v3}\" for v1, v2, v3 in\n",
    "          zip(group_names,group_counts,group_percentages)]\n",
    "\n",
    "labels = np.asarray(labels).reshape(2,2)\n",
    "\n",
    "ax = sns.heatmap(cm_dt, annot=labels, fmt='', cmap='Reds')\n",
    "\n",
    "ax.set_title('Seaborn Confusion Matrix with labels\\n\\n');\n",
    "ax.set_xlabel('\\nPredicted Values')\n",
    "ax.set_ylabel('Actual Values ');\n",
    "\n",
    "## Ticket labels - List must be in alphabetical order\n",
    "ax.xaxis.set_ticklabels(['False','True'])\n",
    "ax.yaxis.set_ticklabels(['False','True'])\n",
    "\n",
    "## Display the visualization of the Confusion Matrix.\n",
    "plt.show()"
   ]
  },
  {
   "cell_type": "code",
   "execution_count": 59,
   "id": "c4afa296",
   "metadata": {},
   "outputs": [
    {
     "data": {
      "text/plain": [
       "array([0.93379107, 0.93077689, 0.9345    , 0.93263473])"
      ]
     },
     "execution_count": 59,
     "metadata": {},
     "output_type": "execute_result"
    }
   ],
   "source": [
    "DT_result = np.array([accuracy_score(Y_test, y_pred_DT),precision_score(Y_test, y_pred_DT), recall_score(Y_test, y_pred_DT),\n",
    "             f1_score(Y_test, y_pred_DT) ])\n",
    "DT_result"
   ]
  },
  {
   "cell_type": "code",
   "execution_count": 60,
   "id": "910a5d12",
   "metadata": {},
   "outputs": [
    {
     "name": "stdout",
     "output_type": "stream",
     "text": [
      "Accuracy score on the training data:  0.766509289349439\n",
      "Accuracy score on the test data:  0.7670426679744973\n"
     ]
    }
   ],
   "source": [
    "DT2 = DecisionTreeClassifier(max_depth=1, random_state=seed)\n",
    "\n",
    "DT2.fit(X_train, Y_train)\n",
    "\n",
    "# Accuracy Score on Training Data\n",
    "X_train_prediction_DT2 = DT2.predict(X_train)\n",
    "training_data_accuracy = accuracy_score(X_train_prediction_DT2, Y_train)\n",
    "\n",
    "print('Accuracy score on the training data: ',training_data_accuracy)\n",
    "\n",
    "# Accuracy Score on Test Data\n",
    "X_test_prediction_DT2 = DT2.predict(X_test)\n",
    "test_data_accuracy = accuracy_score(X_test_prediction_DT2, Y_test)\n",
    "\n",
    "print('Accuracy score on the test data: ',test_data_accuracy)"
   ]
  },
  {
   "cell_type": "code",
   "execution_count": 61,
   "id": "cc8b3de1",
   "metadata": {},
   "outputs": [
    {
     "name": "stdout",
     "output_type": "stream",
     "text": [
      "              precision    recall  f1-score   support\n",
      "\n",
      "        FAKE       0.85      0.66      0.74      2078\n",
      "        REAL       0.71      0.88      0.79      2000\n",
      "\n",
      "    accuracy                           0.77      4078\n",
      "   macro avg       0.78      0.77      0.76      4078\n",
      "weighted avg       0.78      0.77      0.76      4078\n",
      "\n"
     ]
    }
   ],
   "source": [
    "# classification report \n",
    "target_names = ['FAKE', 'REAL']\n",
    "y_pred_DT2= DT2.predict(X_test)\n",
    "print(classification_report(Y_test, y_pred_DT2, target_names=target_names))"
   ]
  },
  {
   "cell_type": "code",
   "execution_count": 62,
   "id": "6a8a2116",
   "metadata": {},
   "outputs": [
    {
     "data": {
      "text/plain": [
       "array([[1363,  715],\n",
       "       [ 235, 1765]], dtype=int64)"
      ]
     },
     "execution_count": 62,
     "metadata": {},
     "output_type": "execute_result"
    }
   ],
   "source": [
    "# Build confusion matrix\n",
    "cm_dt2 = confusion_matrix(Y_test,X_test_prediction_DT2)\n",
    "cm_dt2"
   ]
  },
  {
   "cell_type": "code",
   "execution_count": 63,
   "id": "0f45ca62",
   "metadata": {},
   "outputs": [
    {
     "data": {
      "image/png": "[encoded data removed]",
      "text/plain": [
       "<Figure size 432x288 with 2 Axes>"
      ]
     },
     "metadata": {
      "needs_background": "light"
     },
     "output_type": "display_data"
    }
   ],
   "source": [
    "#plot cm\n",
    "group_names = ['True Neg','False Pos','False Neg','True Pos']\n",
    "\n",
    "group_counts = [\"{0:0.0f}\".format(value) for value in\n",
    "                cm_dt2.flatten()]\n",
    "\n",
    "group_percentages = [\"{0:.2%}\".format(value) for value in\n",
    "                     cm_dt2.flatten()/np.sum(cm_dt2)]\n",
    "\n",
    "labels = [f\"{v1}\\n{v2}\\n{v3}\" for v1, v2, v3 in\n",
    "          zip(group_names,group_counts,group_percentages)]\n",
    "\n",
    "labels = np.asarray(labels).reshape(2,2)\n",
    "\n",
    "ax = sns.heatmap(cm_dt2, annot=labels, fmt='', cmap='Reds')\n",
    "\n",
    "ax.set_title('Seaborn Confusion Matrix with labels\\n\\n');\n",
    "ax.set_xlabel('\\nPredicted Values')\n",
    "ax.set_ylabel('Actual Values ');\n",
    "\n",
    "## Ticket labels - List must be in alphabetical order\n",
    "ax.xaxis.set_ticklabels(['False','True'])\n",
    "ax.yaxis.set_ticklabels(['False','True'])\n",
    "\n",
    "## Display the visualization of the Confusion Matrix.\n",
    "plt.show()"
   ]
  },
  {
   "cell_type": "code",
   "execution_count": 64,
   "id": "868ba5fb",
   "metadata": {},
   "outputs": [
    {
     "data": {
      "text/plain": [
       "array([0.76704267, 0.71169355, 0.8825    , 0.78794643])"
      ]
     },
     "execution_count": 64,
     "metadata": {},
     "output_type": "execute_result"
    }
   ],
   "source": [
    "DT2_result = np.array([accuracy_score(Y_test, y_pred_DT2),precision_score(Y_test, y_pred_DT2), recall_score(Y_test, y_pred_DT2),\n",
    "             f1_score(Y_test, y_pred_DT2) ])\n",
    "DT2_result"
   ]
  },
  {
   "cell_type": "code",
   "execution_count": 65,
   "id": "912145df",
   "metadata": {},
   "outputs": [
    {
     "name": "stdout",
     "output_type": "stream",
     "text": [
      "Accuracy score on the training data:  1.0\n",
      "Accuracy score on the test data:  0.9345267287886219\n"
     ]
    }
   ],
   "source": [
    "DT2 = DecisionTreeClassifier(max_depth=300, random_state=seed)\n",
    "\n",
    "DT2.fit(X_train, Y_train)\n",
    "\n",
    "# Accuracy Score on Training Data\n",
    "X_train_prediction_DT2 = DT2.predict(X_train)\n",
    "training_data_accuracy = accuracy_score(X_train_prediction_DT2, Y_train)\n",
    "\n",
    "print('Accuracy score on the training data: ',training_data_accuracy)\n",
    "\n",
    "# Accuracy Score on Test Data\n",
    "X_test_prediction_DT2 = DT2.predict(X_test)\n",
    "test_data_accuracy = accuracy_score(X_test_prediction_DT2, Y_test)\n",
    "\n",
    "print('Accuracy score on the test data: ',test_data_accuracy)"
   ]
  },
  {
   "cell_type": "code",
   "execution_count": 66,
   "id": "123dfc9d",
   "metadata": {},
   "outputs": [
    {
     "name": "stdout",
     "output_type": "stream",
     "text": [
      "              precision    recall  f1-score   support\n",
      "\n",
      "        FAKE       0.94      0.93      0.94      2078\n",
      "        REAL       0.93      0.94      0.93      2000\n",
      "\n",
      "    accuracy                           0.93      4078\n",
      "   macro avg       0.93      0.93      0.93      4078\n",
      "weighted avg       0.93      0.93      0.93      4078\n",
      "\n"
     ]
    }
   ],
   "source": [
    "# classification report \n",
    "target_names = ['FAKE', 'REAL']\n",
    "y_pred_DT2= DT2.predict(X_test)\n",
    "print(classification_report(Y_test, y_pred_DT2, target_names=target_names))"
   ]
  },
  {
   "cell_type": "code",
   "execution_count": 67,
   "id": "11b633c7",
   "metadata": {},
   "outputs": [
    {
     "data": {
      "text/plain": [
       "array([[1936,  142],\n",
       "       [ 125, 1875]], dtype=int64)"
      ]
     },
     "execution_count": 67,
     "metadata": {},
     "output_type": "execute_result"
    }
   ],
   "source": [
    "# Build confusion matrix\n",
    "cm_dt2 = confusion_matrix(Y_test,X_test_prediction_DT2)\n",
    "cm_dt2"
   ]
  },
  {
   "cell_type": "code",
   "execution_count": 68,
   "id": "e68f6ce5",
   "metadata": {},
   "outputs": [
    {
     "data": {
      "image/png": "[encoded data removed]",
      "text/plain": [
       "<Figure size 432x288 with 2 Axes>"
      ]
     },
     "metadata": {
      "needs_background": "light"
     },
     "output_type": "display_data"
    }
   ],
   "source": [
    "#plot cm\n",
    "group_names = ['True Neg','False Pos','False Neg','True Pos']\n",
    "\n",
    "group_counts = [\"{0:0.0f}\".format(value) for value in\n",
    "                cm_dt2.flatten()]\n",
    "\n",
    "group_percentages = [\"{0:.2%}\".format(value) for value in\n",
    "                     cm_dt2.flatten()/np.sum(cm_dt2)]\n",
    "\n",
    "labels = [f\"{v1}\\n{v2}\\n{v3}\" for v1, v2, v3 in\n",
    "          zip(group_names,group_counts,group_percentages)]\n",
    "\n",
    "labels = np.asarray(labels).reshape(2,2)\n",
    "\n",
    "ax = sns.heatmap(cm_dt2, annot=labels, fmt='', cmap='Reds')\n",
    "\n",
    "ax.set_title('Seaborn Confusion Matrix with labels\\n\\n');\n",
    "ax.set_xlabel('\\nPredicted Values')\n",
    "ax.set_ylabel('Actual Values ');\n",
    "\n",
    "## Ticket labels - List must be in alphabetical order\n",
    "ax.xaxis.set_ticklabels(['False','True'])\n",
    "ax.yaxis.set_ticklabels(['False','True'])\n",
    "\n",
    "## Display the visualization of the Confusion Matrix.\n",
    "plt.show()"
   ]
  },
  {
   "cell_type": "code",
   "execution_count": 69,
   "id": "616ba27c",
   "metadata": {},
   "outputs": [
    {
     "data": {
      "text/plain": [
       "array([0.93452673, 0.92959841, 0.9375    , 0.93353249])"
      ]
     },
     "execution_count": 69,
     "metadata": {},
     "output_type": "execute_result"
    }
   ],
   "source": [
    "DT2_result = np.array([accuracy_score(Y_test, y_pred_DT2),precision_score(Y_test, y_pred_DT2), recall_score(Y_test, y_pred_DT2),\n",
    "             f1_score(Y_test, y_pred_DT2) ])\n",
    "DT2_result"
   ]
  },
  {
   "cell_type": "markdown",
   "id": "d1421965",
   "metadata": {},
   "source": [
    "<B> PASSIVE AGGRESSIVE CLASSIFIER"
   ]
  },
  {
   "cell_type": "code",
   "execution_count": 70,
   "id": "9bf473ef",
   "metadata": {},
   "outputs": [
    {
     "name": "stdout",
     "output_type": "stream",
     "text": [
      "Accuracy score on the training data:  1.0\n",
      "Accuracy score on the test data:  0.9602746444335458\n"
     ]
    }
   ],
   "source": [
    "PA =PassiveAggressiveClassifier(max_iter=50)\n",
    "PA.fit(X_train,Y_train)\n",
    "\n",
    "# Accuracy Score on Training Data\n",
    "X_train_prediction_PA = PA.predict(X_train)\n",
    "training_data_accuracy = accuracy_score(X_train_prediction_PA, Y_train)\n",
    "\n",
    "print('Accuracy score on the training data: ',training_data_accuracy)\n",
    "\n",
    "# Accuracy Score on Test Data\n",
    "X_test_prediction_PA = PA.predict(X_test)\n",
    "test_data_accuracy = accuracy_score(X_test_prediction_PA, Y_test)\n",
    "\n",
    "print('Accuracy score on the test data: ',test_data_accuracy)"
   ]
  },
  {
   "cell_type": "code",
   "execution_count": 71,
   "id": "9d5a9322",
   "metadata": {},
   "outputs": [
    {
     "name": "stdout",
     "output_type": "stream",
     "text": [
      "              precision    recall  f1-score   support\n",
      "\n",
      "        FAKE       0.96      0.96      0.96      2078\n",
      "        REAL       0.96      0.96      0.96      2000\n",
      "\n",
      "    accuracy                           0.96      4078\n",
      "   macro avg       0.96      0.96      0.96      4078\n",
      "weighted avg       0.96      0.96      0.96      4078\n",
      "\n"
     ]
    }
   ],
   "source": [
    "# classification report \n",
    "target_names = ['FAKE', 'REAL']\n",
    "y_pred_PA= PA.predict(X_test)\n",
    "print(classification_report(Y_test, y_pred_PA, target_names=target_names))"
   ]
  },
  {
   "cell_type": "code",
   "execution_count": 72,
   "id": "3a14190d",
   "metadata": {},
   "outputs": [
    {
     "data": {
      "text/plain": [
       "array([[1990,   88],\n",
       "       [  74, 1926]], dtype=int64)"
      ]
     },
     "execution_count": 72,
     "metadata": {},
     "output_type": "execute_result"
    }
   ],
   "source": [
    "# Build confusion matrix\n",
    "cm_pa = confusion_matrix(Y_test,X_test_prediction_PA)\n",
    "cm_pa"
   ]
  },
  {
   "cell_type": "code",
   "execution_count": 73,
   "id": "e9e94f72",
   "metadata": {},
   "outputs": [
    {
     "data": {
      "image/png": "[encoded data removed]",
      "text/plain": [
       "<Figure size 432x288 with 2 Axes>"
      ]
     },
     "metadata": {
      "needs_background": "light"
     },
     "output_type": "display_data"
    }
   ],
   "source": [
    "#plot cm\n",
    "group_names = ['True Neg','False Pos','False Neg','True Pos']\n",
    "\n",
    "group_counts = [\"{0:0.0f}\".format(value) for value in\n",
    "                cm_pa.flatten()]\n",
    "\n",
    "group_percentages = [\"{0:.2%}\".format(value) for value in\n",
    "                     cm_pa.flatten()/np.sum(cm_pa)]\n",
    "\n",
    "labels = [f\"{v1}\\n{v2}\\n{v3}\" for v1, v2, v3 in\n",
    "          zip(group_names,group_counts,group_percentages)]\n",
    "\n",
    "labels = np.asarray(labels).reshape(2,2)\n",
    "\n",
    "ax = sns.heatmap(cm_pa, annot=labels, fmt='', cmap='Reds')\n",
    "\n",
    "ax.set_title('Seaborn Confusion Matrix with labels\\n\\n');\n",
    "ax.set_xlabel('\\nPredicted Values')\n",
    "ax.set_ylabel('Actual Values ');\n",
    "\n",
    "## Ticket labels - List must be in alphabetical order\n",
    "ax.xaxis.set_ticklabels(['False','True'])\n",
    "ax.yaxis.set_ticklabels(['False','True'])\n",
    "\n",
    "## Display the visualization of the Confusion Matrix.\n",
    "plt.show()"
   ]
  },
  {
   "cell_type": "code",
   "execution_count": 74,
   "id": "c35358d5",
   "metadata": {},
   "outputs": [
    {
     "data": {
      "text/plain": [
       "array([0.96027464, 0.95630586, 0.963     , 0.95964126])"
      ]
     },
     "execution_count": 74,
     "metadata": {},
     "output_type": "execute_result"
    }
   ],
   "source": [
    "PA_result = np.array([accuracy_score(Y_test, y_pred_PA),precision_score(Y_test, y_pred_PA), recall_score(Y_test, y_pred_PA),\n",
    "             f1_score(Y_test, y_pred_PA) ])\n",
    "PA_result"
   ]
  },
  {
   "cell_type": "code",
   "execution_count": 75,
   "id": "1d78aae4",
   "metadata": {},
   "outputs": [
    {
     "name": "stdout",
     "output_type": "stream",
     "text": [
      "Accuracy score on the training data:  1.0\n",
      "Accuracy score on the test data:  0.9607650809220206\n"
     ]
    }
   ],
   "source": [
    "PA2 =PassiveAggressiveClassifier(max_iter=500)\n",
    "PA2.fit(X_train,Y_train)\n",
    "\n",
    "# Accuracy Score on Training Data\n",
    "X_train_prediction_PA2 = PA2.predict(X_train)\n",
    "training_data_accuracy = accuracy_score(X_train_prediction_PA2, Y_train)\n",
    "\n",
    "print('Accuracy score on the training data: ',training_data_accuracy)\n",
    "\n",
    "# Accuracy Score on Test Data\n",
    "X_test_prediction_PA2 = PA2.predict(X_test)\n",
    "test_data_accuracy = accuracy_score(X_test_prediction_PA2, Y_test)\n",
    "\n",
    "print('Accuracy score on the test data: ',test_data_accuracy)"
   ]
  },
  {
   "cell_type": "code",
   "execution_count": 76,
   "id": "bc7cf074",
   "metadata": {},
   "outputs": [
    {
     "name": "stdout",
     "output_type": "stream",
     "text": [
      "              precision    recall  f1-score   support\n",
      "\n",
      "        FAKE       0.96      0.96      0.96      2078\n",
      "        REAL       0.96      0.96      0.96      2000\n",
      "\n",
      "    accuracy                           0.96      4078\n",
      "   macro avg       0.96      0.96      0.96      4078\n",
      "weighted avg       0.96      0.96      0.96      4078\n",
      "\n"
     ]
    }
   ],
   "source": [
    "# classification report \n",
    "target_names = ['FAKE', 'REAL']\n",
    "y_pred_PA2= PA2.predict(X_test)\n",
    "print(classification_report(Y_test, y_pred_PA2, target_names=target_names))"
   ]
  },
  {
   "cell_type": "code",
   "execution_count": 77,
   "id": "6f6b9586",
   "metadata": {},
   "outputs": [
    {
     "data": {
      "text/plain": [
       "array([[1998,   80],\n",
       "       [  80, 1920]], dtype=int64)"
      ]
     },
     "execution_count": 77,
     "metadata": {},
     "output_type": "execute_result"
    }
   ],
   "source": [
    "# Build confusion matrix\n",
    "cm_pa2 = confusion_matrix(Y_test,X_test_prediction_PA2)\n",
    "cm_pa2"
   ]
  },
  {
   "cell_type": "code",
   "execution_count": 78,
   "id": "0369db0f",
   "metadata": {},
   "outputs": [
    {
     "data": {
      "image/png": "[encoded data removed]",
      "text/plain": [
       "<Figure size 432x288 with 2 Axes>"
      ]
     },
     "metadata": {
      "needs_background": "light"
     },
     "output_type": "display_data"
    }
   ],
   "source": [
    "#plot cm\n",
    "group_names = ['True Neg','False Pos','False Neg','True Pos']\n",
    "\n",
    "group_counts = [\"{0:0.0f}\".format(value) for value in\n",
    "                cm_pa2.flatten()]\n",
    "\n",
    "group_percentages = [\"{0:.2%}\".format(value) for value in\n",
    "                     cm_pa2.flatten()/np.sum(cm_pa2)]\n",
    "\n",
    "labels = [f\"{v1}\\n{v2}\\n{v3}\" for v1, v2, v3 in\n",
    "          zip(group_names,group_counts,group_percentages)]\n",
    "\n",
    "labels = np.asarray(labels).reshape(2,2)\n",
    "\n",
    "ax = sns.heatmap(cm_pa2, annot=labels, fmt='', cmap='Reds')\n",
    "\n",
    "ax.set_title('Seaborn Confusion Matrix with labels\\n\\n');\n",
    "ax.set_xlabel('\\nPredicted Values')\n",
    "ax.set_ylabel('Actual Values ');\n",
    "\n",
    "## Ticket labels - List must be in alphabetical order\n",
    "ax.xaxis.set_ticklabels(['False','True'])\n",
    "ax.yaxis.set_ticklabels(['False','True'])\n",
    "\n",
    "## Display the visualization of the Confusion Matrix.\n",
    "plt.show()"
   ]
  },
  {
   "cell_type": "code",
   "execution_count": 79,
   "id": "deef0d0a",
   "metadata": {},
   "outputs": [
    {
     "data": {
      "text/plain": [
       "array([0.96076508, 0.96      , 0.96      , 0.96      ])"
      ]
     },
     "execution_count": 79,
     "metadata": {},
     "output_type": "execute_result"
    }
   ],
   "source": [
    "PA2_result = np.array([accuracy_score(Y_test, y_pred_PA2),precision_score(Y_test, y_pred_PA2), recall_score(Y_test, y_pred_PA2),\n",
    "             f1_score(Y_test, y_pred_PA2) ])\n",
    "PA2_result"
   ]
  },
  {
   "cell_type": "markdown",
   "id": "6daa27d7",
   "metadata": {},
   "source": [
    "<B> PLOTS "
   ]
  },
  {
   "cell_type": "code",
   "execution_count": 80,
   "id": "0410a801",
   "metadata": {},
   "outputs": [],
   "source": [
    "Y1 = np.array(LR_result[:4])\n",
    "Y2 = np.array(RF_result[:4])\n",
    "Y3 = np.array(XGB_result[:4])\n",
    "Y4 = np.array(SVM_result[:4])\n",
    "Y5 = np.array(DT_result[:4])\n",
    "Y6 = np.array(PA_result[:4])"
   ]
  },
  {
   "cell_type": "code",
   "execution_count": 81,
   "id": "d805656a",
   "metadata": {},
   "outputs": [
    {
     "data": {
      "image/png": "[encoded data removed]",
      "text/plain": [
       "<Figure size 936x504 with 1 Axes>"
      ]
     },
     "metadata": {
      "needs_background": "light"
     },
     "output_type": "display_data"
    }
   ],
   "source": [
    "plt.figure(figsize=(13,7))\n",
    "n = 1\n",
    "X = np.arange(n)+1\n",
    "plt.xticks([1.7],[r'$Accuracy$'])\n",
    "plt.bar(X,Y1,width = 0.3,facecolor = 'lightskyblue',edgecolor = 'white',label='LR')\n",
    "plt.bar(X+0.3,Y2,width = 0.3,facecolor = 'yellowgreen',edgecolor = 'white',label='RF')\n",
    "plt.bar(X+0.6, Y3, width = 0.3,facecolor = 'coral',edgecolor = 'white',label='XGB')\n",
    "plt.bar(X+0.9, Y4, width = 0.3,facecolor = 'grey',edgecolor = 'white',label='SVM')\n",
    "plt.bar(X+1.2, Y5, width = 0.3,facecolor = 'lightgreen',edgecolor = 'white',label='DT')\n",
    "plt.bar(X+1.5, Y6, width = 0.3,facecolor = 'black',edgecolor = 'white',label='PA')\n",
    "\n",
    "for x,y in zip(X,Y1):\n",
    "    plt.text(x, y, '%.2f'% y , ha='center', va= 'bottom')\n",
    "for x,y in zip(X,Y2):\n",
    "    plt.text(x+0.3, y, '%.2f' % y, ha='center', va= 'bottom')\n",
    "for x,y in zip(X,Y3):\n",
    "    plt.text(x+0.6, y, '%.2f' % y, ha='center', va= 'bottom')\n",
    "for x,y in zip(X,Y4):\n",
    "    plt.text(x+0.9, y, '%.2f' % y, ha='center', va= 'bottom')\n",
    "for x,y in zip(X,Y5):\n",
    "    plt.text(x+1.2, y, '%.2f' % y, ha='center', va= 'bottom' )  \n",
    "for x,y in zip(X,Y6):\n",
    "    plt.text(x+1.5, y, '%.2f' % y, ha='center', va= 'bottom' )    \n",
    "plt.ylabel('Value')\n",
    "plt.ylim(0,+1.1)\n",
    "plt.legend()\n",
    "plt.show()"
   ]
  },
  {
   "cell_type": "code",
   "execution_count": 83,
   "id": "e89e1313",
   "metadata": {},
   "outputs": [],
   "source": [
    "y1 = np.array([precision_score(Y_test, y_pred)])\n",
    "y2 = np.array([precision_score(Y_test, y_pred_RF)])\n",
    "y3 = np.array([precision_score(Y_test, y_pred_XGB)])\n",
    "y4 = np.array([precision_score(Y_test, y_pred_SVM)])\n",
    "y5 = np.array([precision_score(Y_test, y_pred_DT)])\n",
    "y6 = np.array([precision_score(Y_test, y_pred_PA)])\n"
   ]
  },
  {
   "cell_type": "code",
   "execution_count": 84,
   "id": "fa8e7086",
   "metadata": {},
   "outputs": [
    {
     "data": {
      "image/png": "[encoded data removed]",
      "text/plain": [
       "<Figure size 936x504 with 1 Axes>"
      ]
     },
     "metadata": {
      "needs_background": "light"
     },
     "output_type": "display_data"
    }
   ],
   "source": [
    "plt.figure(figsize=(13,7))\n",
    "n = 1\n",
    "X = np.arange(n)+1\n",
    "plt.xticks([1.7],[r'$Precision$'])\n",
    "plt.bar(X,y1,width = 0.3,facecolor = 'lightskyblue',edgecolor = 'white',label='LR')\n",
    "plt.bar(X+0.3,y2,width = 0.3,facecolor = 'yellowgreen',edgecolor = 'white',label='RF')\n",
    "plt.bar(X+0.6, y3, width = 0.3,facecolor = 'coral',edgecolor = 'white',label='XGB')\n",
    "plt.bar(X+0.9, y4, width = 0.3,facecolor = 'grey',edgecolor = 'white',label='SVM')\n",
    "plt.bar(X+1.2, y5, width = 0.3,facecolor = 'lightgreen',edgecolor = 'white',label='DT')\n",
    "plt.bar(X+1.5, y6, width = 0.3,facecolor = 'black',edgecolor = 'white',label='PA')\n",
    "\n",
    "for x,y in zip(X,y1):\n",
    "    plt.text(x, y, '%.2f'% y , ha='center', va= 'bottom')\n",
    "for x,y in zip(X,y2):\n",
    "    plt.text(x+0.3, y, '%.2f' % y, ha='center', va= 'bottom')\n",
    "for x,y in zip(X,y3):\n",
    "    plt.text(x+0.6, y, '%.2f' % y, ha='center', va= 'bottom')\n",
    "for x,y in zip(X,y4):\n",
    "    plt.text(x+0.9, y, '%.2f' % y, ha='center', va= 'bottom')\n",
    "for x,y in zip(X,y5):\n",
    "    plt.text(x+1.2, y, '%.2f' % y, ha='center', va= 'bottom' )  \n",
    "for x,y in zip(X,y6):\n",
    "    plt.text(x+1.5, y, '%.2f' % y, ha='center', va= 'bottom' )    \n",
    "plt.ylabel('Value')\n",
    "plt.ylim(0,+1.1)\n",
    "plt.legend()\n",
    "plt.show()"
   ]
  },
  {
   "cell_type": "code",
   "execution_count": 85,
   "id": "c2a3cf94",
   "metadata": {},
   "outputs": [],
   "source": [
    "z1 = np.array([recall_score(Y_test, y_pred)])\n",
    "z2 = np.array([recall_score(Y_test, y_pred_RF)])\n",
    "z3 = np.array([recall_score(Y_test, y_pred_XGB)])\n",
    "z4 = np.array([recall_score(Y_test, y_pred_SVM)])\n",
    "z5 = np.array([recall_score(Y_test, y_pred_DT)])\n",
    "z6 = np.array([recall_score(Y_test, y_pred_PA)])\n"
   ]
  },
  {
   "cell_type": "code",
   "execution_count": 86,
   "id": "33ad4ced",
   "metadata": {},
   "outputs": [
    {
     "data": {
      "image/png": "[encoded data removed]",
      "text/plain": [
       "<Figure size 936x504 with 1 Axes>"
      ]
     },
     "metadata": {
      "needs_background": "light"
     },
     "output_type": "display_data"
    }
   ],
   "source": [
    "plt.figure(figsize=(13,7))\n",
    "n = 1\n",
    "X = np.arange(n)+1\n",
    "plt.xticks([1.7],[r'$Recall$'])\n",
    "plt.bar(X,y1,width = 0.3,facecolor = 'lightskyblue',edgecolor = 'white',label='LR')\n",
    "plt.bar(X+0.3,z2,width = 0.3,facecolor = 'yellowgreen',edgecolor = 'white',label='RF')\n",
    "plt.bar(X+0.6, z3, width = 0.3,facecolor = 'coral',edgecolor = 'white',label='XGB')\n",
    "plt.bar(X+0.9, z4, width = 0.3,facecolor = 'grey',edgecolor = 'white',label='SVM')\n",
    "plt.bar(X+1.2, z5, width = 0.3,facecolor = 'lightgreen',edgecolor = 'white',label='DT')\n",
    "plt.bar(X+1.5, z6, width = 0.3,facecolor = 'black',edgecolor = 'white',label='PA')\n",
    "\n",
    "for x,y in zip(X,z1):\n",
    "    plt.text(x, y, '%.2f'% y , ha='center', va= 'bottom')\n",
    "for x,y in zip(X,z2):\n",
    "    plt.text(x+0.3, y, '%.2f' % y, ha='center', va= 'bottom')\n",
    "for x,y in zip(X,z3):\n",
    "    plt.text(x+0.6, y, '%.2f' % y, ha='center', va= 'bottom')\n",
    "for x,y in zip(X,z4):\n",
    "    plt.text(x+0.9, y, '%.2f' % y, ha='center', va= 'bottom')\n",
    "for x,y in zip(X,z5):\n",
    "    plt.text(x+1.2, y, '%.2f' % y, ha='center', va= 'bottom' )  \n",
    "for x,y in zip(X,z6):\n",
    "    plt.text(x+1.5, y, '%.2f' % y, ha='center', va= 'bottom' )    \n",
    "plt.ylabel('Value')\n",
    "plt.ylim(0,+1.1)\n",
    "plt.legend()\n",
    "plt.show()"
   ]
  },
  {
   "cell_type": "code",
   "execution_count": 87,
   "id": "d8b1c124",
   "metadata": {},
   "outputs": [],
   "source": [
    "v1 = np.array([f1_score(Y_test, y_pred)])\n",
    "v2 = np.array([f1_score(Y_test, y_pred_RF)])\n",
    "v3 = np.array([f1_score(Y_test, y_pred_XGB)])\n",
    "v4 = np.array([f1_score(Y_test, y_pred_SVM)])\n",
    "v5 = np.array([f1_score(Y_test, y_pred_DT)])\n",
    "v6 = np.array([f1_score(Y_test, y_pred_PA)])"
   ]
  },
  {
   "cell_type": "code",
   "execution_count": 88,
   "id": "d23b53ee",
   "metadata": {},
   "outputs": [
    {
     "data": {
      "image/png": "[encoded data removed]",
      "text/plain": [
       "<Figure size 936x504 with 1 Axes>"
      ]
     },
     "metadata": {
      "needs_background": "light"
     },
     "output_type": "display_data"
    }
   ],
   "source": [
    "plt.figure(figsize=(13,7))\n",
    "n = 1\n",
    "X = np.arange(n)+1\n",
    "plt.xticks([1.7],[r'$F1$'])\n",
    "plt.bar(X,y1,width = 0.3,facecolor = 'lightskyblue',edgecolor = 'white',label='LR')\n",
    "plt.bar(X+0.3,v2,width = 0.3,facecolor = 'yellowgreen',edgecolor = 'white',label='RF')\n",
    "plt.bar(X+0.6, v3, width = 0.3,facecolor = 'coral',edgecolor = 'white',label='XGB')\n",
    "plt.bar(X+0.9, v4, width = 0.3,facecolor = 'grey',edgecolor = 'white',label='SVM')\n",
    "plt.bar(X+1.2, v5, width = 0.3,facecolor = 'lightgreen',edgecolor = 'white',label='DT')\n",
    "plt.bar(X+1.5, v6, width = 0.3,facecolor = 'black',edgecolor = 'white',label='PA')\n",
    "\n",
    "for x,y in zip(X,v1):\n",
    "    plt.text(x, y, '%.2f'% y , ha='center', va= 'bottom')\n",
    "for x,y in zip(X,v2):\n",
    "    plt.text(x+0.3, y, '%.2f' % y, ha='center', va= 'bottom')\n",
    "for x,y in zip(X,v3):\n",
    "    plt.text(x+0.6, y, '%.2f' % y, ha='center', va= 'bottom')\n",
    "for x,y in zip(X,v4):\n",
    "    plt.text(x+0.9, y, '%.2f' % y, ha='center', va= 'bottom')\n",
    "for x,y in zip(X,v5):\n",
    "    plt.text(x+1.2, y, '%.2f' % y, ha='center', va= 'bottom' )  \n",
    "for x,y in zip(X,v6):\n",
    "    plt.text(x+1.5, y, '%.2f' % y, ha='center', va= 'bottom' )    \n",
    "plt.ylabel('Value')\n",
    "plt.ylim(0,+1.1)\n",
    "plt.legend()\n",
    "plt.show()"
   ]
  },
  {
   "cell_type": "code",
   "execution_count": 82,
   "id": "a2c59680",
   "metadata": {},
   "outputs": [
    {
     "data": {
      "image/png": "[encoded data removed]",
      "text/plain": [
       "<Figure size 432x288 with 1 Axes>"
      ]
     },
     "metadata": {
      "needs_background": "light"
     },
     "output_type": "display_data"
    }
   ],
   "source": [
    "data = [LR_result[0], RF_result[0],XGB_result[0],SVM_result[0],DT_result[0],PA_result[0]]\n",
    "plt.barh(range(len(data)), data)\n",
    "plt.yticks([0,1,2,3,4,5],[r'$LR$', r'$RF$', r'$XGB$',r'$SVM$',r'$DT$',r'$PA$'])\n",
    "plt.xlabel('Time')\n",
    "plt.ylabel('Models')\n",
    "plt.show()"
   ]
  },
  {
   "cell_type": "code",
   "execution_count": 89,
   "id": "752c0637",
   "metadata": {},
   "outputs": [
    {
     "name": "stdout",
     "output_type": "stream",
     "text": [
      "[1]\n",
      "The news is Fake\n"
     ]
    }
   ],
   "source": [
    "X_new = X_test[55]\n",
    "prediction = LR.predict(X_new)\n",
    "print(prediction)\n",
    "\n",
    "if (prediction[0]==0):\n",
    "    print('The news is Real')\n",
    "else:\n",
    "    print('The news is Fake')"
   ]
  },
  {
   "cell_type": "code",
   "execution_count": 90,
   "id": "3fa234ef",
   "metadata": {},
   "outputs": [
    {
     "name": "stdout",
     "output_type": "stream",
     "text": [
      "[1]\n",
      "The news is Fake\n"
     ]
    }
   ],
   "source": [
    "X_new = X_test[55]\n",
    "prediction = SVM.predict(X_new)\n",
    "print(prediction)\n",
    "\n",
    "if (prediction[0]==0):\n",
    "    print('The news is Real')\n",
    "else:\n",
    "    print('The news is Fake')"
   ]
  },
  {
   "cell_type": "code",
   "execution_count": 91,
   "id": "5597cea6",
   "metadata": {},
   "outputs": [
    {
     "name": "stdout",
     "output_type": "stream",
     "text": [
      "[1]\n",
      "The news is Fake\n"
     ]
    }
   ],
   "source": [
    "X_new = X_test[55]\n",
    "prediction = RF.predict(X_new)\n",
    "print(prediction)\n",
    "\n",
    "if (prediction[0]==0):\n",
    "    print('The news is Real')\n",
    "else:\n",
    "    print('The news is Fake')"
   ]
  },
  {
   "cell_type": "code",
   "execution_count": 92,
   "id": "a8ec70ee",
   "metadata": {},
   "outputs": [
    {
     "name": "stdout",
     "output_type": "stream",
     "text": [
      "[1]\n",
      "The news is Fake\n"
     ]
    }
   ],
   "source": [
    "X_new = X_test[55]\n",
    "prediction = XGB.predict(X_new)\n",
    "print(prediction)\n",
    "\n",
    "if (prediction[0]==0):\n",
    "    print('The news is Real')\n",
    "else:\n",
    "    print('The news is Fake')"
   ]
  },
  {
   "cell_type": "code",
   "execution_count": 93,
   "id": "a2504d67",
   "metadata": {},
   "outputs": [
    {
     "name": "stdout",
     "output_type": "stream",
     "text": [
      "[1]\n",
      "The news is Fake\n"
     ]
    }
   ],
   "source": [
    "X_new = X_test[55]\n",
    "prediction = PA.predict(X_new)\n",
    "print(prediction)\n",
    "\n",
    "if (prediction[0]==0):\n",
    "    print('The news is Real')\n",
    "else:\n",
    "    print('The news is Fake')"
   ]
  },
  {
   "cell_type": "code",
   "execution_count": 94,
   "id": "639364ad",
   "metadata": {},
   "outputs": [
    {
     "name": "stdout",
     "output_type": "stream",
     "text": [
      "[0]\n",
      "The news is Real\n"
     ]
    }
   ],
   "source": [
    "X_new = X_test[78]\n",
    "prediction = DT.predict(X_new)\n",
    "print(prediction)\n",
    "\n",
    "if (prediction[0]==0):\n",
    "    print('The news is Real')\n",
    "else:\n",
    "    print('The news is Fake')"
   ]
  },
  {
   "cell_type": "code",
   "execution_count": 95,
   "id": "173907ab",
   "metadata": {},
   "outputs": [
    {
     "data": {
      "text/html": [
       "<div>\n",
       "<style scoped>\n",
       "    .dataframe tbody tr th:only-of-type {\n",
       "        vertical-align: middle;\n",
       "    }\n",
       "\n",
       "    .dataframe tbody tr th {\n",
       "        vertical-align: top;\n",
       "    }\n",
       "\n",
       "    .dataframe thead th {\n",
       "        text-align: right;\n",
       "    }\n",
       "</style>\n",
       "<table border=\"1\" class=\"dataframe\">\n",
       "  <thead>\n",
       "    <tr style=\"text-align: right;\">\n",
       "      <th></th>\n",
       "      <th>id</th>\n",
       "      <th>title</th>\n",
       "      <th>author</th>\n",
       "      <th>text</th>\n",
       "      <th>label</th>\n",
       "      <th>data</th>\n",
       "    </tr>\n",
       "  </thead>\n",
       "  <tbody>\n",
       "    <tr>\n",
       "      <th>55</th>\n",
       "      <td>55</td>\n",
       "      <td>The Trump Election Will Spark More Individual ...</td>\n",
       "      <td>Lance Schuttler</td>\n",
       "      <td>The Trump Election Will Spark More Individual ...</td>\n",
       "      <td>1</td>\n",
       "      <td>trump elect spark individu collect heal nov ar...</td>\n",
       "    </tr>\n",
       "    <tr>\n",
       "      <th>56</th>\n",
       "      <td>56</td>\n",
       "      <td>Ep. 544 FADE to BLACK Jimmy Church w/ Laura Ei...</td>\n",
       "      <td>Madeline</td>\n",
       "      <td>Click Here To Learn More About Alexandra's Per...</td>\n",
       "      <td>1</td>\n",
       "      <td>click learn alexandra person essenc psychic pr...</td>\n",
       "    </tr>\n",
       "    <tr>\n",
       "      <th>57</th>\n",
       "      <td>57</td>\n",
       "      <td>Cognition and True Islam - A Book Review</td>\n",
       "      <td>M.R. Islam</td>\n",
       "      <td>1 Shares\\n1 0 0 0\\nBook Review – Dr. Rafiq Isl...</td>\n",
       "      <td>1</td>\n",
       "      <td>share book review dr rafiq islam emertec r ltd...</td>\n",
       "    </tr>\n",
       "    <tr>\n",
       "      <th>58</th>\n",
       "      <td>58</td>\n",
       "      <td>If Donald Trump Wins The Election, It Will Be ...</td>\n",
       "      <td>The Doc</td>\n",
       "      <td>If Donald Trump Wins The Election, It Will Be ...</td>\n",
       "      <td>1</td>\n",
       "      <td>donald trump win elect biggest miracl us polit...</td>\n",
       "    </tr>\n",
       "    <tr>\n",
       "      <th>59</th>\n",
       "      <td>59</td>\n",
       "      <td>Mindful Eating as Way to Fight Bingeing - The ...</td>\n",
       "      <td>Jeff Gordinier</td>\n",
       "      <td>Editors’ note: We’re resurfacing this 2012 art...</td>\n",
       "      <td>0</td>\n",
       "      <td>editor note resurfac articl smarter live sit t...</td>\n",
       "    </tr>\n",
       "    <tr>\n",
       "      <th>60</th>\n",
       "      <td>60</td>\n",
       "      <td>The Major Potential Impact of a Corporate Tax ...</td>\n",
       "      <td>Neil Irwin</td>\n",
       "      <td>The United States system for taxing businesses...</td>\n",
       "      <td>0</td>\n",
       "      <td>unit state system tax busi mess one thing near...</td>\n",
       "    </tr>\n",
       "    <tr>\n",
       "      <th>61</th>\n",
       "      <td>61</td>\n",
       "      <td>I wonder what GLP will be like the day after t...</td>\n",
       "      <td>Anonymous Coward (UID 12781064)</td>\n",
       "      <td>I wonder what GLP will be like the day after t...</td>\n",
       "      <td>1</td>\n",
       "      <td>wonder glp like day elect wonder glp like day ...</td>\n",
       "    </tr>\n",
       "    <tr>\n",
       "      <th>62</th>\n",
       "      <td>62</td>\n",
       "      <td>3 Makers of World’s Smallest Machines Awarded ...</td>\n",
       "      <td>Kenneth Chang and Sewell Chan</td>\n",
       "      <td>Three pioneers in the development of nanomachi...</td>\n",
       "      <td>0</td>\n",
       "      <td>three pioneer develop nanomachin made move mol...</td>\n",
       "    </tr>\n",
       "    <tr>\n",
       "      <th>63</th>\n",
       "      <td>63</td>\n",
       "      <td>Massive Anti-Trump Protests, Union Square NYC ...</td>\n",
       "      <td>Truth Broadcast Network</td>\n",
       "      <td>17 mins ago 2 Views 0 Comments 0 Likes   New Z...</td>\n",
       "      <td>1</td>\n",
       "      <td>min ago view comment like new zealand countri ...</td>\n",
       "    </tr>\n",
       "    <tr>\n",
       "      <th>64</th>\n",
       "      <td>64</td>\n",
       "      <td>Review: ‘Lion’ Brings Tears for a Lost Boy, Wi...</td>\n",
       "      <td>A. O. Scott</td>\n",
       "      <td>The first part of “Lion,” Garth Davis’s unabas...</td>\n",
       "      <td>0</td>\n",
       "      <td>first part lion garth davi unabashedli movi re...</td>\n",
       "    </tr>\n",
       "    <tr>\n",
       "      <th>65</th>\n",
       "      <td>65</td>\n",
       "      <td>U.S. General: Islamic State Chemical Attack Ha...</td>\n",
       "      <td>Kristina Wong</td>\n",
       "      <td>WASHINGTON  —   U. S. and Australian troops ad...</td>\n",
       "      <td>0</td>\n",
       "      <td>washington u australian troop advis iraqi forc...</td>\n",
       "    </tr>\n",
       "    <tr>\n",
       "      <th>66</th>\n",
       "      <td>66</td>\n",
       "      <td>Jury finds all Oregon standoff defendants not ...</td>\n",
       "      <td>Admin</td>\n",
       "      <td>Oregon Live – by Maxine Bernstein \\nA federal ...</td>\n",
       "      <td>1</td>\n",
       "      <td>oregon live maxin bernstein feder juri thursda...</td>\n",
       "    </tr>\n",
       "    <tr>\n",
       "      <th>67</th>\n",
       "      <td>67</td>\n",
       "      <td>Clinton Campaign STUNNED As FBI Reportedly Reo...</td>\n",
       "      <td>The Doc</td>\n",
       "      <td>Clinton Campaign STUNNED As FBI Reportedly Reo...</td>\n",
       "      <td>1</td>\n",
       "      <td>clinton campaign stun fbi reportedli reopen pr...</td>\n",
       "    </tr>\n",
       "    <tr>\n",
       "      <th>68</th>\n",
       "      <td>68</td>\n",
       "      <td>Pence Will Speak at Anti-Abortion Rally - The ...</td>\n",
       "      <td>Jeremy W. Peters</td>\n",
       "      <td>WASHINGTON  —   Vice President Mike Pence will...</td>\n",
       "      <td>0</td>\n",
       "      <td>washington vice presid mike penc speak friday ...</td>\n",
       "    </tr>\n",
       "    <tr>\n",
       "      <th>69</th>\n",
       "      <td>69</td>\n",
       "      <td>Bernie Sanders Says What The Media Won’t: Trum...</td>\n",
       "      <td>Jason Easley</td>\n",
       "      <td>— Bernie Sanders (@BernieSanders) October 27, ...</td>\n",
       "      <td>1</td>\n",
       "      <td>berni sander berniesand octob gut run offic id...</td>\n",
       "    </tr>\n",
       "    <tr>\n",
       "      <th>70</th>\n",
       "      <td>70</td>\n",
       "      <td>How To Make Briquettes From Daily Waste</td>\n",
       "      <td>Chris Black</td>\n",
       "      <td>22, 2016 How To Make Briquettes From Daily W...</td>\n",
       "      <td>1</td>\n",
       "      <td>make briquett daili wast rememb old say one ma...</td>\n",
       "    </tr>\n",
       "    <tr>\n",
       "      <th>71</th>\n",
       "      <td>71</td>\n",
       "      <td>Treason! NYT vows 'rededication' to reporting!</td>\n",
       "      <td>Ivan the Stakhanovets</td>\n",
       "      <td>In Hillary's America, email server scrubs you ...</td>\n",
       "      <td>1</td>\n",
       "      <td>hillari america email server scrub obama trans...</td>\n",
       "    </tr>\n",
       "    <tr>\n",
       "      <th>72</th>\n",
       "      <td>72</td>\n",
       "      <td>Dress Like a Woman? What Does That Mean? - The...</td>\n",
       "      <td>Jacey Fortin</td>\n",
       "      <td>What does it mean to “dress like a woman”? Soc...</td>\n",
       "      <td>0</td>\n",
       "      <td>mean dress like woman social media user took u...</td>\n",
       "    </tr>\n",
       "    <tr>\n",
       "      <th>73</th>\n",
       "      <td>73</td>\n",
       "      <td>At 91, Ella Brennan Still Feeds (and Leads) Ne...</td>\n",
       "      <td>Brett Anderson</td>\n",
       "      <td>NEW ORLEANS  —   A typical evening for Ella Br...</td>\n",
       "      <td>0</td>\n",
       "      <td>new orlean typic even ella brennan begin cockt...</td>\n",
       "    </tr>\n",
       "    <tr>\n",
       "      <th>74</th>\n",
       "      <td>74</td>\n",
       "      <td>Pressing Asia Agenda, Obama Treads Lightly on ...</td>\n",
       "      <td>Jane Perlez</td>\n",
       "      <td>HANGZHOU, China  —   Human rights barely regis...</td>\n",
       "      <td>0</td>\n",
       "      <td>hangzhou china human right bare regist presid ...</td>\n",
       "    </tr>\n",
       "    <tr>\n",
       "      <th>75</th>\n",
       "      <td>75</td>\n",
       "      <td>Democrats Have a 60 Percent Chance to Retake t...</td>\n",
       "      <td>Josh Katz</td>\n",
       "      <td>The Upshot’s new Senate election forecast give...</td>\n",
       "      <td>0</td>\n",
       "      <td>upshot new senat elect forecast give democrat ...</td>\n",
       "    </tr>\n",
       "    <tr>\n",
       "      <th>76</th>\n",
       "      <td>76</td>\n",
       "      <td>News: PR Disaster: The President Of Panasonic ...</td>\n",
       "      <td></td>\n",
       "      <td>Email \\nGet ready for the most cringeworthy st...</td>\n",
       "      <td>1</td>\n",
       "      <td>email get readi cringeworthi stori go read day...</td>\n",
       "    </tr>\n",
       "    <tr>\n",
       "      <th>77</th>\n",
       "      <td>77</td>\n",
       "      <td>Judge spanks transgender-obsessed Obama: You l...</td>\n",
       "      <td>Redflag Newsdesk</td>\n",
       "      <td>\\nBob Unruh | WND \\nFor a third time, a federa...</td>\n",
       "      <td>1</td>\n",
       "      <td>bob unruh wnd third time feder judg affirm nat...</td>\n",
       "    </tr>\n",
       "    <tr>\n",
       "      <th>78</th>\n",
       "      <td>78</td>\n",
       "      <td>51 U.S. Diplomats Urge Strikes Against Assad i...</td>\n",
       "      <td>Mark Landler</td>\n",
       "      <td>WASHINGTON  —   More than 50 State Department ...</td>\n",
       "      <td>0</td>\n",
       "      <td>washington state depart diplomat sign intern m...</td>\n",
       "    </tr>\n",
       "    <tr>\n",
       "      <th>79</th>\n",
       "      <td>79</td>\n",
       "      <td>Franken Calls for ’Independent Investigation’ ...</td>\n",
       "      <td>Pam Key</td>\n",
       "      <td>Sunday on CNN’s “State of the Union,” in react...</td>\n",
       "      <td>0</td>\n",
       "      <td>sunday cnn state union react report presid don...</td>\n",
       "    </tr>\n",
       "    <tr>\n",
       "      <th>80</th>\n",
       "      <td>80</td>\n",
       "      <td>Louisiana, Simone Biles, U.S. Presidential Rac...</td>\n",
       "      <td>Andrea Kannapell and Sandra Stevenson</td>\n",
       "      <td>(Want to get this briefing by email? Here’s th...</td>\n",
       "      <td>0</td>\n",
       "      <td>want get brief email good even latest floodwat...</td>\n",
       "    </tr>\n",
       "    <tr>\n",
       "      <th>81</th>\n",
       "      <td>81</td>\n",
       "      <td>Turkey Threatens to Open Migrant ’Land Passage...</td>\n",
       "      <td>Breitbart London</td>\n",
       "      <td>(AP)  —   Turkey’s minister in charge of Europ...</td>\n",
       "      <td>0</td>\n",
       "      <td>ap turkey minist charg european union affair s...</td>\n",
       "    </tr>\n",
       "    <tr>\n",
       "      <th>82</th>\n",
       "      <td>82</td>\n",
       "      <td>Huma’s Weiner Dogs Hillary</td>\n",
       "      <td>Steve Sailer</td>\n",
       "      <td></td>\n",
       "      <td>1</td>\n",
       "      <td>huma weiner dog hillari</td>\n",
       "    </tr>\n",
       "    <tr>\n",
       "      <th>83</th>\n",
       "      <td>83</td>\n",
       "      <td>Colin Kaepernick Starts Black Panther-Inspired...</td>\n",
       "      <td>Scott Osborn</td>\n",
       "      <td>0 comments Colin Kaepernick has started a kids...</td>\n",
       "      <td>1</td>\n",
       "      <td>comment colin kaepernick start kid camp inspir...</td>\n",
       "    </tr>\n",
       "    <tr>\n",
       "      <th>84</th>\n",
       "      <td>84</td>\n",
       "      <td>Trump’s Immigration Policies Explained - The N...</td>\n",
       "      <td>Nicholas Kulish, Vivian Yee, Caitlin Dickerson...</td>\n",
       "      <td>With an executive order last month and a pair ...</td>\n",
       "      <td>0</td>\n",
       "      <td>execut order last month pair depart homeland s...</td>\n",
       "    </tr>\n",
       "    <tr>\n",
       "      <th>85</th>\n",
       "      <td>85</td>\n",
       "      <td>Mary Tyler Moore Is Mourned by Dick Van Dyke a...</td>\n",
       "      <td>Niraj Chokshi and Liam Stack</td>\n",
       "      <td>Mary Tyler Moore, whose iconic television role...</td>\n",
       "      <td>0</td>\n",
       "      <td>mari tyler moor whose icon televis role reflec...</td>\n",
       "    </tr>\n",
       "    <tr>\n",
       "      <th>86</th>\n",
       "      <td>86</td>\n",
       "      <td>Poison</td>\n",
       "      <td>Heather Callaghan</td>\n",
       "      <td>By Dr. Mark Sircus Everyone knows that there a...</td>\n",
       "      <td>1</td>\n",
       "      <td>dr mark sircu everyon know psychopath everywhe...</td>\n",
       "    </tr>\n",
       "    <tr>\n",
       "      <th>87</th>\n",
       "      <td>87</td>\n",
       "      <td>Trump Fans Rally Across the Nation to Support ...</td>\n",
       "      <td>Jack Healy</td>\n",
       "      <td>DENVER  —   As Americans poured into airport t...</td>\n",
       "      <td>0</td>\n",
       "      <td>denver american pour airport termin public squ...</td>\n",
       "    </tr>\n",
       "    <tr>\n",
       "      <th>88</th>\n",
       "      <td>88</td>\n",
       "      <td>Fox Biz Reporter Can't Help But Bash Clinton’s...</td>\n",
       "      <td>Kayla Brandon</td>\n",
       "      <td>Share on Twitter \\nThe battle of campaign rall...</td>\n",
       "      <td>1</td>\n",
       "      <td>share twitter battl campaign ralli go strong t...</td>\n",
       "    </tr>\n",
       "    <tr>\n",
       "      <th>89</th>\n",
       "      <td>89</td>\n",
       "      <td>11 Fiction Podcasts Worth a Listen - The New Y...</td>\n",
       "      <td>Amanda Hess</td>\n",
       "      <td>The fiction podcast is having a moment. But mo...</td>\n",
       "      <td>0</td>\n",
       "      <td>fiction podcast moment modern audio dramatist ...</td>\n",
       "    </tr>\n",
       "    <tr>\n",
       "      <th>90</th>\n",
       "      <td>90</td>\n",
       "      <td>Mike Birbiglia’s 6 Tips for Making It Small in...</td>\n",
       "      <td>Mike Birbiglia</td>\n",
       "      <td>This summer, I went on a   tour with my movie ...</td>\n",
       "      <td>0</td>\n",
       "      <td>summer went tour movi think twice comedi impro...</td>\n",
       "    </tr>\n",
       "    <tr>\n",
       "      <th>91</th>\n",
       "      <td>91</td>\n",
       "      <td>Investment Strategist Forecasts Collapse Timel...</td>\n",
       "      <td>Mac Slavo</td>\n",
       "      <td>It is no longer a question of whether or not f...</td>\n",
       "      <td>1</td>\n",
       "      <td>longer question whether financi market u econo...</td>\n",
       "    </tr>\n",
       "    <tr>\n",
       "      <th>92</th>\n",
       "      <td>92</td>\n",
       "      <td>Venezuela Muzzles Legislature, Moving Closer t...</td>\n",
       "      <td>Nicholas Casey and Patricia Torres</td>\n",
       "      <td>IQUITOS, Peru  —   Venezuela took its stronges...</td>\n",
       "      <td>0</td>\n",
       "      <td>iquito peru venezuela took strongest step yet ...</td>\n",
       "    </tr>\n",
       "    <tr>\n",
       "      <th>93</th>\n",
       "      <td>93</td>\n",
       "      <td>Whether it's John McCain, Mitt Romney or Donal...</td>\n",
       "      <td>Natural News Editors</td>\n",
       "      <td>Whether it's John McCain, Mitt Romney or Donal...</td>\n",
       "      <td>1</td>\n",
       "      <td>whether john mccain mitt romney donald trump d...</td>\n",
       "    </tr>\n",
       "    <tr>\n",
       "      <th>94</th>\n",
       "      <td>94</td>\n",
       "      <td>Breitbart News Daily: Trump Boom - Breitbart</td>\n",
       "      <td>Breitbart News</td>\n",
       "      <td>On the Thursday edition of Breitbart News Dail...</td>\n",
       "      <td>0</td>\n",
       "      <td>thursday edit breitbart news daili broadcast l...</td>\n",
       "    </tr>\n",
       "    <tr>\n",
       "      <th>95</th>\n",
       "      <td>95</td>\n",
       "      <td>White House Confirms More Gitmo Transfers Befo...</td>\n",
       "      <td>Edwin Mora</td>\n",
       "      <td>President Barack Obama will likely release mor...</td>\n",
       "      <td>0</td>\n",
       "      <td>presid barack obama like releas prison u milit...</td>\n",
       "    </tr>\n",
       "    <tr>\n",
       "      <th>96</th>\n",
       "      <td>96</td>\n",
       "      <td>The Geometry of Energy and Meditation of Buddha</td>\n",
       "      <td></td>\n",
       "      <td>License DMCA \\nA mandala is a visual symbol of...</td>\n",
       "      <td>1</td>\n",
       "      <td>licens dmca mandala visual symbol often util m...</td>\n",
       "    </tr>\n",
       "    <tr>\n",
       "      <th>97</th>\n",
       "      <td>97</td>\n",
       "      <td>Poll: Most Voters Have Not Heard of Democratic...</td>\n",
       "      <td>Katherine Rodriguez</td>\n",
       "      <td>There is a minefield of potential 2020 electio...</td>\n",
       "      <td>0</td>\n",
       "      <td>minefield potenti elect candid democrat parti ...</td>\n",
       "    </tr>\n",
       "    <tr>\n",
       "      <th>98</th>\n",
       "      <td>98</td>\n",
       "      <td>Migrants Confront Judgment Day Over Old Deport...</td>\n",
       "      <td>Vivian Yee</td>\n",
       "      <td>There are a little more than two weeks between...</td>\n",
       "      <td>0</td>\n",
       "      <td>littl two week juan electrician bronx date can...</td>\n",
       "    </tr>\n",
       "    <tr>\n",
       "      <th>99</th>\n",
       "      <td>99</td>\n",
       "      <td>M.I.T., N.Y.U. and Yale Are Sued Over Retireme...</td>\n",
       "      <td>Tara Siegel Bernard</td>\n",
       "      <td>Three prominent universities were sued on Tues...</td>\n",
       "      <td>0</td>\n",
       "      <td>three promin univers su tuesday accus allow em...</td>\n",
       "    </tr>\n",
       "  </tbody>\n",
       "</table>\n",
       "</div>"
      ],
      "text/plain": [
       "    id                                              title  \\\n",
       "55  55  The Trump Election Will Spark More Individual ...   \n",
       "56  56  Ep. 544 FADE to BLACK Jimmy Church w/ Laura Ei...   \n",
       "57  57           Cognition and True Islam - A Book Review   \n",
       "58  58  If Donald Trump Wins The Election, It Will Be ...   \n",
       "59  59  Mindful Eating as Way to Fight Bingeing - The ...   \n",
       "60  60  The Major Potential Impact of a Corporate Tax ...   \n",
       "61  61  I wonder what GLP will be like the day after t...   \n",
       "62  62  3 Makers of World’s Smallest Machines Awarded ...   \n",
       "63  63  Massive Anti-Trump Protests, Union Square NYC ...   \n",
       "64  64  Review: ‘Lion’ Brings Tears for a Lost Boy, Wi...   \n",
       "65  65  U.S. General: Islamic State Chemical Attack Ha...   \n",
       "66  66  Jury finds all Oregon standoff defendants not ...   \n",
       "67  67  Clinton Campaign STUNNED As FBI Reportedly Reo...   \n",
       "68  68  Pence Will Speak at Anti-Abortion Rally - The ...   \n",
       "69  69  Bernie Sanders Says What The Media Won’t: Trum...   \n",
       "70  70            How To Make Briquettes From Daily Waste   \n",
       "71  71     Treason! NYT vows 'rededication' to reporting!   \n",
       "72  72  Dress Like a Woman? What Does That Mean? - The...   \n",
       "73  73  At 91, Ella Brennan Still Feeds (and Leads) Ne...   \n",
       "74  74  Pressing Asia Agenda, Obama Treads Lightly on ...   \n",
       "75  75  Democrats Have a 60 Percent Chance to Retake t...   \n",
       "76  76  News: PR Disaster: The President Of Panasonic ...   \n",
       "77  77  Judge spanks transgender-obsessed Obama: You l...   \n",
       "78  78  51 U.S. Diplomats Urge Strikes Against Assad i...   \n",
       "79  79  Franken Calls for ’Independent Investigation’ ...   \n",
       "80  80  Louisiana, Simone Biles, U.S. Presidential Rac...   \n",
       "81  81  Turkey Threatens to Open Migrant ’Land Passage...   \n",
       "82  82                         Huma’s Weiner Dogs Hillary   \n",
       "83  83  Colin Kaepernick Starts Black Panther-Inspired...   \n",
       "84  84  Trump’s Immigration Policies Explained - The N...   \n",
       "85  85  Mary Tyler Moore Is Mourned by Dick Van Dyke a...   \n",
       "86  86                                             Poison   \n",
       "87  87  Trump Fans Rally Across the Nation to Support ...   \n",
       "88  88  Fox Biz Reporter Can't Help But Bash Clinton’s...   \n",
       "89  89  11 Fiction Podcasts Worth a Listen - The New Y...   \n",
       "90  90  Mike Birbiglia’s 6 Tips for Making It Small in...   \n",
       "91  91  Investment Strategist Forecasts Collapse Timel...   \n",
       "92  92  Venezuela Muzzles Legislature, Moving Closer t...   \n",
       "93  93  Whether it's John McCain, Mitt Romney or Donal...   \n",
       "94  94       Breitbart News Daily: Trump Boom - Breitbart   \n",
       "95  95  White House Confirms More Gitmo Transfers Befo...   \n",
       "96  96    The Geometry of Energy and Meditation of Buddha   \n",
       "97  97  Poll: Most Voters Have Not Heard of Democratic...   \n",
       "98  98  Migrants Confront Judgment Day Over Old Deport...   \n",
       "99  99  M.I.T., N.Y.U. and Yale Are Sued Over Retireme...   \n",
       "\n",
       "                                               author  \\\n",
       "55                                    Lance Schuttler   \n",
       "56                                           Madeline   \n",
       "57                                         M.R. Islam   \n",
       "58                                            The Doc   \n",
       "59                                     Jeff Gordinier   \n",
       "60                                         Neil Irwin   \n",
       "61                    Anonymous Coward (UID 12781064)   \n",
       "62                      Kenneth Chang and Sewell Chan   \n",
       "63                            Truth Broadcast Network   \n",
       "64                                        A. O. Scott   \n",
       "65                                      Kristina Wong   \n",
       "66                                              Admin   \n",
       "67                                            The Doc   \n",
       "68                                   Jeremy W. Peters   \n",
       "69                                       Jason Easley   \n",
       "70                                        Chris Black   \n",
       "71                              Ivan the Stakhanovets   \n",
       "72                                       Jacey Fortin   \n",
       "73                                     Brett Anderson   \n",
       "74                                        Jane Perlez   \n",
       "75                                          Josh Katz   \n",
       "76                                                      \n",
       "77                                   Redflag Newsdesk   \n",
       "78                                       Mark Landler   \n",
       "79                                            Pam Key   \n",
       "80              Andrea Kannapell and Sandra Stevenson   \n",
       "81                                   Breitbart London   \n",
       "82                                       Steve Sailer   \n",
       "83                                       Scott Osborn   \n",
       "84  Nicholas Kulish, Vivian Yee, Caitlin Dickerson...   \n",
       "85                       Niraj Chokshi and Liam Stack   \n",
       "86                                  Heather Callaghan   \n",
       "87                                         Jack Healy   \n",
       "88                                      Kayla Brandon   \n",
       "89                                        Amanda Hess   \n",
       "90                                     Mike Birbiglia   \n",
       "91                                          Mac Slavo   \n",
       "92                 Nicholas Casey and Patricia Torres   \n",
       "93                               Natural News Editors   \n",
       "94                                     Breitbart News   \n",
       "95                                         Edwin Mora   \n",
       "96                                                      \n",
       "97                                Katherine Rodriguez   \n",
       "98                                         Vivian Yee   \n",
       "99                                Tara Siegel Bernard   \n",
       "\n",
       "                                                 text  label  \\\n",
       "55  The Trump Election Will Spark More Individual ...      1   \n",
       "56  Click Here To Learn More About Alexandra's Per...      1   \n",
       "57  1 Shares\\n1 0 0 0\\nBook Review – Dr. Rafiq Isl...      1   \n",
       "58  If Donald Trump Wins The Election, It Will Be ...      1   \n",
       "59  Editors’ note: We’re resurfacing this 2012 art...      0   \n",
       "60  The United States system for taxing businesses...      0   \n",
       "61  I wonder what GLP will be like the day after t...      1   \n",
       "62  Three pioneers in the development of nanomachi...      0   \n",
       "63  17 mins ago 2 Views 0 Comments 0 Likes   New Z...      1   \n",
       "64  The first part of “Lion,” Garth Davis’s unabas...      0   \n",
       "65  WASHINGTON  —   U. S. and Australian troops ad...      0   \n",
       "66  Oregon Live – by Maxine Bernstein \\nA federal ...      1   \n",
       "67  Clinton Campaign STUNNED As FBI Reportedly Reo...      1   \n",
       "68  WASHINGTON  —   Vice President Mike Pence will...      0   \n",
       "69  — Bernie Sanders (@BernieSanders) October 27, ...      1   \n",
       "70    22, 2016 How To Make Briquettes From Daily W...      1   \n",
       "71  In Hillary's America, email server scrubs you ...      1   \n",
       "72  What does it mean to “dress like a woman”? Soc...      0   \n",
       "73  NEW ORLEANS  —   A typical evening for Ella Br...      0   \n",
       "74  HANGZHOU, China  —   Human rights barely regis...      0   \n",
       "75  The Upshot’s new Senate election forecast give...      0   \n",
       "76  Email \\nGet ready for the most cringeworthy st...      1   \n",
       "77  \\nBob Unruh | WND \\nFor a third time, a federa...      1   \n",
       "78  WASHINGTON  —   More than 50 State Department ...      0   \n",
       "79  Sunday on CNN’s “State of the Union,” in react...      0   \n",
       "80  (Want to get this briefing by email? Here’s th...      0   \n",
       "81  (AP)  —   Turkey’s minister in charge of Europ...      0   \n",
       "82                                                         1   \n",
       "83  0 comments Colin Kaepernick has started a kids...      1   \n",
       "84  With an executive order last month and a pair ...      0   \n",
       "85  Mary Tyler Moore, whose iconic television role...      0   \n",
       "86  By Dr. Mark Sircus Everyone knows that there a...      1   \n",
       "87  DENVER  —   As Americans poured into airport t...      0   \n",
       "88  Share on Twitter \\nThe battle of campaign rall...      1   \n",
       "89  The fiction podcast is having a moment. But mo...      0   \n",
       "90  This summer, I went on a   tour with my movie ...      0   \n",
       "91  It is no longer a question of whether or not f...      1   \n",
       "92  IQUITOS, Peru  —   Venezuela took its stronges...      0   \n",
       "93  Whether it's John McCain, Mitt Romney or Donal...      1   \n",
       "94  On the Thursday edition of Breitbart News Dail...      0   \n",
       "95  President Barack Obama will likely release mor...      0   \n",
       "96  License DMCA \\nA mandala is a visual symbol of...      1   \n",
       "97  There is a minefield of potential 2020 electio...      0   \n",
       "98  There are a little more than two weeks between...      0   \n",
       "99  Three prominent universities were sued on Tues...      0   \n",
       "\n",
       "                                                 data  \n",
       "55  trump elect spark individu collect heal nov ar...  \n",
       "56  click learn alexandra person essenc psychic pr...  \n",
       "57  share book review dr rafiq islam emertec r ltd...  \n",
       "58  donald trump win elect biggest miracl us polit...  \n",
       "59  editor note resurfac articl smarter live sit t...  \n",
       "60  unit state system tax busi mess one thing near...  \n",
       "61  wonder glp like day elect wonder glp like day ...  \n",
       "62  three pioneer develop nanomachin made move mol...  \n",
       "63  min ago view comment like new zealand countri ...  \n",
       "64  first part lion garth davi unabashedli movi re...  \n",
       "65  washington u australian troop advis iraqi forc...  \n",
       "66  oregon live maxin bernstein feder juri thursda...  \n",
       "67  clinton campaign stun fbi reportedli reopen pr...  \n",
       "68  washington vice presid mike penc speak friday ...  \n",
       "69  berni sander berniesand octob gut run offic id...  \n",
       "70  make briquett daili wast rememb old say one ma...  \n",
       "71  hillari america email server scrub obama trans...  \n",
       "72  mean dress like woman social media user took u...  \n",
       "73  new orlean typic even ella brennan begin cockt...  \n",
       "74  hangzhou china human right bare regist presid ...  \n",
       "75  upshot new senat elect forecast give democrat ...  \n",
       "76  email get readi cringeworthi stori go read day...  \n",
       "77  bob unruh wnd third time feder judg affirm nat...  \n",
       "78  washington state depart diplomat sign intern m...  \n",
       "79  sunday cnn state union react report presid don...  \n",
       "80  want get brief email good even latest floodwat...  \n",
       "81  ap turkey minist charg european union affair s...  \n",
       "82                            huma weiner dog hillari  \n",
       "83  comment colin kaepernick start kid camp inspir...  \n",
       "84  execut order last month pair depart homeland s...  \n",
       "85  mari tyler moor whose icon televis role reflec...  \n",
       "86  dr mark sircu everyon know psychopath everywhe...  \n",
       "87  denver american pour airport termin public squ...  \n",
       "88  share twitter battl campaign ralli go strong t...  \n",
       "89  fiction podcast moment modern audio dramatist ...  \n",
       "90  summer went tour movi think twice comedi impro...  \n",
       "91  longer question whether financi market u econo...  \n",
       "92  iquito peru venezuela took strongest step yet ...  \n",
       "93  whether john mccain mitt romney donald trump d...  \n",
       "94  thursday edit breitbart news daili broadcast l...  \n",
       "95  presid barack obama like releas prison u milit...  \n",
       "96  licens dmca mandala visual symbol often util m...  \n",
       "97  minefield potenti elect candid democrat parti ...  \n",
       "98  littl two week juan electrician bronx date can...  \n",
       "99  three promin univers su tuesday accus allow em...  "
      ]
     },
     "execution_count": 95,
     "metadata": {},
     "output_type": "execute_result"
    }
   ],
   "source": [
    "news_dataset[55:100]"
   ]
  },
  {
   "cell_type": "markdown",
   "id": "9ac7efbf",
   "metadata": {},
   "source": [
    "<b> DATASET WITH THE SHAPE OF (6335, 4)\n"
   ]
  },
  {
   "cell_type": "code",
   "execution_count": 96,
   "id": "3ef1f03b",
   "metadata": {},
   "outputs": [
    {
     "name": "stdout",
     "output_type": "stream",
     "text": [
      "The shape of the dataset is (6335, 4)\n"
     ]
    }
   ],
   "source": [
    "#read the data \n",
    "news_dataset_2=pd.read_csv(r'C:\\Users\\Ειρήνη\\Desktop\\Πανεπιστήμιο\\Φ-252 - Machine Learning\\project\\proj.csv')\n",
    "#Get shape and head\n",
    "print(\"The shape of the dataset is\" ,news_dataset_2.shape)"
   ]
  },
  {
   "cell_type": "code",
   "execution_count": 97,
   "id": "3277539b",
   "metadata": {},
   "outputs": [
    {
     "data": {
      "text/html": [
       "<div>\n",
       "<style scoped>\n",
       "    .dataframe tbody tr th:only-of-type {\n",
       "        vertical-align: middle;\n",
       "    }\n",
       "\n",
       "    .dataframe tbody tr th {\n",
       "        vertical-align: top;\n",
       "    }\n",
       "\n",
       "    .dataframe thead th {\n",
       "        text-align: right;\n",
       "    }\n",
       "</style>\n",
       "<table border=\"1\" class=\"dataframe\">\n",
       "  <thead>\n",
       "    <tr style=\"text-align: right;\">\n",
       "      <th></th>\n",
       "      <th>Unnamed: 0</th>\n",
       "      <th>title</th>\n",
       "      <th>text</th>\n",
       "      <th>label</th>\n",
       "    </tr>\n",
       "  </thead>\n",
       "  <tbody>\n",
       "    <tr>\n",
       "      <th>0</th>\n",
       "      <td>8476</td>\n",
       "      <td>You Can Smell Hillary’s Fear</td>\n",
       "      <td>Daniel Greenfield, a Shillman Journalism Fello...</td>\n",
       "      <td>FAKE</td>\n",
       "    </tr>\n",
       "    <tr>\n",
       "      <th>1</th>\n",
       "      <td>10294</td>\n",
       "      <td>Watch The Exact Moment Paul Ryan Committed Pol...</td>\n",
       "      <td>Google Pinterest Digg Linkedin Reddit Stumbleu...</td>\n",
       "      <td>FAKE</td>\n",
       "    </tr>\n",
       "    <tr>\n",
       "      <th>2</th>\n",
       "      <td>3608</td>\n",
       "      <td>Kerry to go to Paris in gesture of sympathy</td>\n",
       "      <td>U.S. Secretary of State John F. Kerry said Mon...</td>\n",
       "      <td>REAL</td>\n",
       "    </tr>\n",
       "    <tr>\n",
       "      <th>3</th>\n",
       "      <td>10142</td>\n",
       "      <td>Bernie supporters on Twitter erupt in anger ag...</td>\n",
       "      <td>— Kaydee King (@KaydeeKing) November 9, 2016 T...</td>\n",
       "      <td>FAKE</td>\n",
       "    </tr>\n",
       "    <tr>\n",
       "      <th>4</th>\n",
       "      <td>875</td>\n",
       "      <td>The Battle of New York: Why This Primary Matters</td>\n",
       "      <td>It's primary day in New York and front-runners...</td>\n",
       "      <td>REAL</td>\n",
       "    </tr>\n",
       "  </tbody>\n",
       "</table>\n",
       "</div>"
      ],
      "text/plain": [
       "   Unnamed: 0                                              title  \\\n",
       "0        8476                       You Can Smell Hillary’s Fear   \n",
       "1       10294  Watch The Exact Moment Paul Ryan Committed Pol...   \n",
       "2        3608        Kerry to go to Paris in gesture of sympathy   \n",
       "3       10142  Bernie supporters on Twitter erupt in anger ag...   \n",
       "4         875   The Battle of New York: Why This Primary Matters   \n",
       "\n",
       "                                                text label  \n",
       "0  Daniel Greenfield, a Shillman Journalism Fello...  FAKE  \n",
       "1  Google Pinterest Digg Linkedin Reddit Stumbleu...  FAKE  \n",
       "2  U.S. Secretary of State John F. Kerry said Mon...  REAL  \n",
       "3  — Kaydee King (@KaydeeKing) November 9, 2016 T...  FAKE  \n",
       "4  It's primary day in New York and front-runners...  REAL  "
      ]
     },
     "execution_count": 97,
     "metadata": {},
     "output_type": "execute_result"
    }
   ],
   "source": [
    "news_dataset_2.head()"
   ]
  },
  {
   "cell_type": "code",
   "execution_count": 98,
   "id": "195ea227",
   "metadata": {},
   "outputs": [
    {
     "data": {
      "text/html": [
       "<div>\n",
       "<style scoped>\n",
       "    .dataframe tbody tr th:only-of-type {\n",
       "        vertical-align: middle;\n",
       "    }\n",
       "\n",
       "    .dataframe tbody tr th {\n",
       "        vertical-align: top;\n",
       "    }\n",
       "\n",
       "    .dataframe thead th {\n",
       "        text-align: right;\n",
       "    }\n",
       "</style>\n",
       "<table border=\"1\" class=\"dataframe\">\n",
       "  <thead>\n",
       "    <tr style=\"text-align: right;\">\n",
       "      <th></th>\n",
       "      <th>Unnamed: 0</th>\n",
       "      <th>title</th>\n",
       "      <th>text</th>\n",
       "      <th>label</th>\n",
       "    </tr>\n",
       "  </thead>\n",
       "  <tbody>\n",
       "    <tr>\n",
       "      <th>0</th>\n",
       "      <td>8476</td>\n",
       "      <td>You Can Smell Hillary’s Fear</td>\n",
       "      <td>Daniel Greenfield, a Shillman Journalism Fello...</td>\n",
       "      <td>0</td>\n",
       "    </tr>\n",
       "    <tr>\n",
       "      <th>1</th>\n",
       "      <td>10294</td>\n",
       "      <td>Watch The Exact Moment Paul Ryan Committed Pol...</td>\n",
       "      <td>Google Pinterest Digg Linkedin Reddit Stumbleu...</td>\n",
       "      <td>0</td>\n",
       "    </tr>\n",
       "    <tr>\n",
       "      <th>2</th>\n",
       "      <td>3608</td>\n",
       "      <td>Kerry to go to Paris in gesture of sympathy</td>\n",
       "      <td>U.S. Secretary of State John F. Kerry said Mon...</td>\n",
       "      <td>1</td>\n",
       "    </tr>\n",
       "    <tr>\n",
       "      <th>3</th>\n",
       "      <td>10142</td>\n",
       "      <td>Bernie supporters on Twitter erupt in anger ag...</td>\n",
       "      <td>— Kaydee King (@KaydeeKing) November 9, 2016 T...</td>\n",
       "      <td>0</td>\n",
       "    </tr>\n",
       "    <tr>\n",
       "      <th>4</th>\n",
       "      <td>875</td>\n",
       "      <td>The Battle of New York: Why This Primary Matters</td>\n",
       "      <td>It's primary day in New York and front-runners...</td>\n",
       "      <td>1</td>\n",
       "    </tr>\n",
       "  </tbody>\n",
       "</table>\n",
       "</div>"
      ],
      "text/plain": [
       "   Unnamed: 0                                              title  \\\n",
       "0        8476                       You Can Smell Hillary’s Fear   \n",
       "1       10294  Watch The Exact Moment Paul Ryan Committed Pol...   \n",
       "2        3608        Kerry to go to Paris in gesture of sympathy   \n",
       "3       10142  Bernie supporters on Twitter erupt in anger ag...   \n",
       "4         875   The Battle of New York: Why This Primary Matters   \n",
       "\n",
       "                                                text  label  \n",
       "0  Daniel Greenfield, a Shillman Journalism Fello...      0  \n",
       "1  Google Pinterest Digg Linkedin Reddit Stumbleu...      0  \n",
       "2  U.S. Secretary of State John F. Kerry said Mon...      1  \n",
       "3  — Kaydee King (@KaydeeKing) November 9, 2016 T...      0  \n",
       "4  It's primary day in New York and front-runners...      1  "
      ]
     },
     "execution_count": 98,
     "metadata": {},
     "output_type": "execute_result"
    }
   ],
   "source": [
    "label_trans = lambda i: 0 if i == 'FAKE' else 1\n",
    "news_dataset_2.label = news_dataset_2.label.apply(label_trans)\n",
    "news_dataset_2.head()"
   ]
  },
  {
   "cell_type": "code",
   "execution_count": 99,
   "id": "a07d8f95",
   "metadata": {},
   "outputs": [
    {
     "data": {
      "text/plain": [
       "Unnamed: 0    0\n",
       "title         0\n",
       "text          0\n",
       "label         0\n",
       "dtype: int64"
      ]
     },
     "execution_count": 99,
     "metadata": {},
     "output_type": "execute_result"
    }
   ],
   "source": [
    "# check for missing values\n",
    "news_dataset_2.isnull().sum()"
   ]
  },
  {
   "cell_type": "code",
   "execution_count": 100,
   "id": "8991fd4f",
   "metadata": {},
   "outputs": [
    {
     "data": {
      "text/plain": [
       "False    6060\n",
       "True      275\n",
       "dtype: int64"
      ]
     },
     "execution_count": 100,
     "metadata": {},
     "output_type": "execute_result"
    }
   ],
   "source": [
    "# check for duplicates\n",
    "news_dataset_2.duplicated(subset=[\"text\"]).value_counts()"
   ]
  },
  {
   "cell_type": "code",
   "execution_count": 101,
   "id": "42b5e971",
   "metadata": {},
   "outputs": [
    {
     "data": {
      "text/html": [
       "<div>\n",
       "<style scoped>\n",
       "    .dataframe tbody tr th:only-of-type {\n",
       "        vertical-align: middle;\n",
       "    }\n",
       "\n",
       "    .dataframe tbody tr th {\n",
       "        vertical-align: top;\n",
       "    }\n",
       "\n",
       "    .dataframe thead th {\n",
       "        text-align: right;\n",
       "    }\n",
       "</style>\n",
       "<table border=\"1\" class=\"dataframe\">\n",
       "  <thead>\n",
       "    <tr style=\"text-align: right;\">\n",
       "      <th></th>\n",
       "      <th>Unnamed: 0</th>\n",
       "      <th>title</th>\n",
       "      <th>text</th>\n",
       "      <th>label</th>\n",
       "    </tr>\n",
       "  </thead>\n",
       "  <tbody>\n",
       "    <tr>\n",
       "      <th>61</th>\n",
       "      <td>1834</td>\n",
       "      <td>Biden makes another surprise political stop</td>\n",
       "      <td>On this day in 1973, J. Fred Buzhardt, a lawye...</td>\n",
       "      <td>1</td>\n",
       "    </tr>\n",
       "    <tr>\n",
       "      <th>90</th>\n",
       "      <td>1661</td>\n",
       "      <td>Exclusive: GOP campaigns plot revolt against RNC</td>\n",
       "      <td>Killing Obama administration rules, dismantlin...</td>\n",
       "      <td>1</td>\n",
       "    </tr>\n",
       "    <tr>\n",
       "      <th>157</th>\n",
       "      <td>1329</td>\n",
       "      <td>How Clinton plans to stop Sanders' momentum</td>\n",
       "      <td>Killing Obama administration rules, dismantlin...</td>\n",
       "      <td>1</td>\n",
       "    </tr>\n",
       "    <tr>\n",
       "      <th>233</th>\n",
       "      <td>1770</td>\n",
       "      <td>Scott Walker, Rick Perry show limits of super ...</td>\n",
       "      <td>On this day in 1973, J. Fred Buzhardt, a lawye...</td>\n",
       "      <td>1</td>\n",
       "    </tr>\n",
       "    <tr>\n",
       "      <th>316</th>\n",
       "      <td>1570</td>\n",
       "      <td>Rand Paul is flatlining</td>\n",
       "      <td>Killing Obama administration rules, dismantlin...</td>\n",
       "      <td>1</td>\n",
       "    </tr>\n",
       "  </tbody>\n",
       "</table>\n",
       "</div>"
      ],
      "text/plain": [
       "     Unnamed: 0                                              title  \\\n",
       "61         1834        Biden makes another surprise political stop   \n",
       "90         1661   Exclusive: GOP campaigns plot revolt against RNC   \n",
       "157        1329        How Clinton plans to stop Sanders' momentum   \n",
       "233        1770  Scott Walker, Rick Perry show limits of super ...   \n",
       "316        1570                            Rand Paul is flatlining   \n",
       "\n",
       "                                                  text  label  \n",
       "61   On this day in 1973, J. Fred Buzhardt, a lawye...      1  \n",
       "90   Killing Obama administration rules, dismantlin...      1  \n",
       "157  Killing Obama administration rules, dismantlin...      1  \n",
       "233  On this day in 1973, J. Fred Buzhardt, a lawye...      1  \n",
       "316  Killing Obama administration rules, dismantlin...      1  "
      ]
     },
     "execution_count": 101,
     "metadata": {},
     "output_type": "execute_result"
    }
   ],
   "source": [
    "dup_2 = news_dataset_2[news_dataset_2.duplicated(subset=[\"text\"])]\n",
    "dup_2.head()"
   ]
  },
  {
   "cell_type": "code",
   "execution_count": 102,
   "id": "b893ca03",
   "metadata": {},
   "outputs": [
    {
     "data": {
      "text/plain": [
       "(275, 4)"
      ]
     },
     "execution_count": 102,
     "metadata": {},
     "output_type": "execute_result"
    }
   ],
   "source": [
    "dup_2.shape #duplicates"
   ]
  },
  {
   "cell_type": "code",
   "execution_count": 103,
   "id": "178468bd",
   "metadata": {},
   "outputs": [
    {
     "data": {
      "text/plain": [
       "(6060, 4)"
      ]
     },
     "execution_count": 103,
     "metadata": {},
     "output_type": "execute_result"
    }
   ],
   "source": [
    "# drop duplicates\n",
    "news_dataset_2 = news_dataset_2.drop_duplicates(subset={\"text\"}, keep='first', inplace=False)\n",
    "news_dataset_2.shape"
   ]
  },
  {
   "cell_type": "code",
   "execution_count": 104,
   "id": "1c28f580",
   "metadata": {},
   "outputs": [],
   "source": [
    "news_dataset_2['data'] = news_dataset_2['text']+' '+news_dataset_2['title']"
   ]
  },
  {
   "cell_type": "code",
   "execution_count": 105,
   "id": "13ec3eda",
   "metadata": {},
   "outputs": [
    {
     "name": "stdout",
     "output_type": "stream",
     "text": [
      "0       Daniel Greenfield, a Shillman Journalism Fello...\n",
      "1       Google Pinterest Digg Linkedin Reddit Stumbleu...\n",
      "2       U.S. Secretary of State John F. Kerry said Mon...\n",
      "3       — Kaydee King (@KaydeeKing) November 9, 2016 T...\n",
      "4       It's primary day in New York and front-runners...\n",
      "                              ...                        \n",
      "6330    The State Department told the Republican Natio...\n",
      "6331    The ‘P’ in PBS Should Stand for ‘Plutocratic’ ...\n",
      "6332     Anti-Trump Protesters Are Tools of the Oligar...\n",
      "6333    ADDIS ABABA, Ethiopia —President Obama convene...\n",
      "6334    Jeb Bush Is Suddenly Attacking Trump. Here's W...\n",
      "Name: data, Length: 6060, dtype: object\n"
     ]
    }
   ],
   "source": [
    "print(news_dataset_2['data'])"
   ]
  },
  {
   "cell_type": "code",
   "execution_count": 107,
   "id": "311ea359",
   "metadata": {},
   "outputs": [],
   "source": [
    "stem_words = PorterStemmer()"
   ]
  },
  {
   "cell_type": "code",
   "execution_count": 111,
   "id": "68a6258e",
   "metadata": {},
   "outputs": [],
   "source": [
    "def stemming(data):\n",
    "    stemmed_content = re.sub('[^a-zA-Z]',' ',data)\n",
    "    stemmed_content = stemmed_content.lower()\n",
    "    stemmed_content = stemmed_content.split()\n",
    "  #  stemmed_content = [stem_words.stem(word) for word in stemmed_content if not word in stopwords.words('english')]\n",
    "    stemmed_content = ' '.join(stemmed_content)\n",
    "    return stemmed_content"
   ]
  },
  {
   "cell_type": "code",
   "execution_count": 112,
   "id": "f8333de5",
   "metadata": {},
   "outputs": [],
   "source": [
    "news_dataset_2['data'] = news_dataset_2['data'].apply(stemming)"
   ]
  },
  {
   "cell_type": "code",
   "execution_count": 113,
   "id": "e4b15f13",
   "metadata": {},
   "outputs": [],
   "source": [
    "X = news_dataset_2['data'].values\n",
    "Y = news_dataset_2['label']"
   ]
  },
  {
   "cell_type": "code",
   "execution_count": 115,
   "id": "8aba0927",
   "metadata": {},
   "outputs": [],
   "source": [
    "# convert text to numbers \n",
    "vectorizer = TfidfVectorizer()\n",
    "vectorizer.fit(X)\n",
    "\n",
    "X = vectorizer.transform(X)"
   ]
  },
  {
   "cell_type": "code",
   "execution_count": 116,
   "id": "19a549b0",
   "metadata": {},
   "outputs": [
    {
     "name": "stdout",
     "output_type": "stream",
     "text": [
      "  (0, 64939)\t0.010462942350281173\n",
      "  (0, 64923)\t0.04235206523388288\n",
      "  (0, 64913)\t0.023101521234597664\n",
      "  (0, 64779)\t0.01685266617073848\n",
      "  (0, 64436)\t0.028368079185996757\n",
      "  (0, 64425)\t0.019585590504861396\n",
      "  (0, 64380)\t0.028347988265443644\n",
      "  (0, 64329)\t0.023409448153370746\n",
      "  (0, 64326)\t0.015419050004477224\n",
      "  (0, 64325)\t0.006567364701738188\n",
      "  (0, 64225)\t0.015666535201254803\n",
      "  (0, 64148)\t0.012687356811175304\n",
      "  (0, 64034)\t0.02158469326982925\n",
      "  (0, 64033)\t0.012774369401653926\n",
      "  (0, 64014)\t0.04553662059319734\n",
      "  (0, 63969)\t0.0321277059413144\n",
      "  (0, 63902)\t0.03314910237372664\n",
      "  (0, 63813)\t0.006292038343359337\n",
      "  (0, 63767)\t0.026680513816198913\n",
      "  (0, 63696)\t0.019689885162684457\n",
      "  (0, 63687)\t0.02725707146752536\n",
      "  (0, 63661)\t0.013999557052030964\n",
      "  (0, 63655)\t0.005910455520997995\n",
      "  (0, 63560)\t0.02411252103263835\n",
      "  (0, 63547)\t0.010556248942836036\n",
      "  :\t:\n",
      "  (6059, 3096)\t0.014887238473556148\n",
      "  (6059, 3009)\t0.02812865821570257\n",
      "  (6059, 2963)\t0.02819324748007186\n",
      "  (6059, 2935)\t0.022588458743944217\n",
      "  (6059, 2929)\t0.007812928737202641\n",
      "  (6059, 2751)\t0.04569857747069351\n",
      "  (6059, 2688)\t0.03328778643573218\n",
      "  (6059, 2660)\t0.02201028221428922\n",
      "  (6059, 2657)\t0.02261541636010903\n",
      "  (6059, 2656)\t0.030154656998499275\n",
      "  (6059, 2653)\t0.024840350648929106\n",
      "  (6059, 2539)\t0.029727517566503665\n",
      "  (6059, 2534)\t0.01161096873042329\n",
      "  (6059, 2199)\t0.026519097452965382\n",
      "  (6059, 2122)\t0.07273722894453942\n",
      "  (6059, 2112)\t0.03365993859459965\n",
      "  (6059, 2044)\t0.007990757775918868\n",
      "  (6059, 1734)\t0.01965282728307628\n",
      "  (6059, 1603)\t0.028032987421928567\n",
      "  (6059, 1172)\t0.024504449231423836\n",
      "  (6059, 1082)\t0.04831208858684101\n",
      "  (6059, 1061)\t0.010206680748932133\n",
      "  (6059, 859)\t0.03307451547474262\n",
      "  (6059, 418)\t0.014075407448080956\n",
      "  (6059, 217)\t0.017691417764648856\n"
     ]
    }
   ],
   "source": [
    "print(X)"
   ]
  },
  {
   "cell_type": "code",
   "execution_count": 117,
   "id": "d9d1d81e",
   "metadata": {},
   "outputs": [
    {
     "name": "stdout",
     "output_type": "stream",
     "text": [
      "0       0\n",
      "1       0\n",
      "2       1\n",
      "3       0\n",
      "4       1\n",
      "       ..\n",
      "6330    1\n",
      "6331    0\n",
      "6332    0\n",
      "6333    1\n",
      "6334    1\n",
      "Name: label, Length: 6060, dtype: int64\n"
     ]
    }
   ],
   "source": [
    "print(Y)"
   ]
  },
  {
   "cell_type": "code",
   "execution_count": 118,
   "id": "e7a58ff0",
   "metadata": {},
   "outputs": [],
   "source": [
    "# split the data \n",
    "seed = 124\n",
    "X_train, X_test, Y_train, Y_test = train_test_split(X, Y, test_size=0.2, stratify=Y, random_state=seed)"
   ]
  },
  {
   "cell_type": "markdown",
   "id": "f0171f46",
   "metadata": {},
   "source": [
    "<b> LOGISTIC REGRESSION"
   ]
  },
  {
   "cell_type": "code",
   "execution_count": 119,
   "id": "7c17d650",
   "metadata": {},
   "outputs": [
    {
     "name": "stdout",
     "output_type": "stream",
     "text": [
      "Accuracy score on the training data:  0.9463696369636964\n",
      "Accuracy score on the test data:  0.8952145214521452\n"
     ]
    }
   ],
   "source": [
    "LR = LogisticRegression()\n",
    "\n",
    "LR.fit(X_train, Y_train)\n",
    "\n",
    "# Accuracy Score on Training Data\n",
    "X_train_prediction = LR.predict(X_train)\n",
    "training_data_accuracy = accuracy_score(X_train_prediction, Y_train)\n",
    "\n",
    "print('Accuracy score on the training data: ',training_data_accuracy)\n",
    "\n",
    "# Accuracy Score on Test Data\n",
    "X_test_prediction = LR.predict(X_test)\n",
    "test_data_accuracy = accuracy_score(X_test_prediction, Y_test)\n",
    "\n",
    "print('Accuracy score on the test data: ',test_data_accuracy)"
   ]
  },
  {
   "cell_type": "code",
   "execution_count": 120,
   "id": "7cae5466",
   "metadata": {},
   "outputs": [
    {
     "name": "stdout",
     "output_type": "stream",
     "text": [
      "              precision    recall  f1-score   support\n",
      "\n",
      "           0       0.87      0.93      0.90       614\n",
      "           1       0.92      0.86      0.89       598\n",
      "\n",
      "    accuracy                           0.90      1212\n",
      "   macro avg       0.90      0.89      0.89      1212\n",
      "weighted avg       0.90      0.90      0.90      1212\n",
      "\n"
     ]
    }
   ],
   "source": [
    "# classification report \n",
    "target_names = ['0', '1']\n",
    "y_pred = LR.predict(X_test)\n",
    "print(classification_report(Y_test, y_pred, target_names=target_names))"
   ]
  },
  {
   "cell_type": "code",
   "execution_count": 121,
   "id": "8d09ef05",
   "metadata": {},
   "outputs": [
    {
     "data": {
      "text/plain": [
       "array([[572,  42],\n",
       "       [ 85, 513]], dtype=int64)"
      ]
     },
     "execution_count": 121,
     "metadata": {},
     "output_type": "execute_result"
    }
   ],
   "source": [
    "# Build confusion matrix\n",
    "cm_LR = confusion_matrix(Y_test,X_test_prediction)\n",
    "cm_LR"
   ]
  },
  {
   "cell_type": "code",
   "execution_count": 122,
   "id": "82c95d5f",
   "metadata": {},
   "outputs": [
    {
     "data": {
      "image/png": "[encoded data removed]",
      "text/plain": [
       "<Figure size 432x288 with 2 Axes>"
      ]
     },
     "metadata": {
      "needs_background": "light"
     },
     "output_type": "display_data"
    }
   ],
   "source": [
    "# plot cm\n",
    "group_names = ['True Neg','False Pos','False Neg','True Pos']\n",
    "\n",
    "group_counts = [\"{0:0.0f}\".format(value) for value in\n",
    "                cm_LR.flatten()]\n",
    "\n",
    "group_percentages = [\"{0:.2%}\".format(value) for value in\n",
    "                     cm_LR.flatten()/np.sum(cm_LR)]\n",
    "\n",
    "labels = [f\"{v1}\\n{v2}\\n{v3}\" for v1, v2, v3 in\n",
    "          zip(group_names,group_counts,group_percentages)]\n",
    "\n",
    "labels = np.asarray(labels).reshape(2,2)\n",
    "\n",
    "ax = sns.heatmap(cm_LR, annot=labels, fmt='', cmap='Reds')\n",
    "\n",
    "ax.set_title('Seaborn Confusion Matrix with labels\\n\\n');\n",
    "ax.set_xlabel('\\nPredicted Values')\n",
    "ax.set_ylabel('Actual Values ');\n",
    "\n",
    "## Ticket labels - List must be in alphabetical order\n",
    "ax.xaxis.set_ticklabels(['False','True'])\n",
    "ax.yaxis.set_ticklabels(['False','True'])\n",
    "\n",
    "## Display the visualization of the Confusion Matrix.\n",
    "plt.show()"
   ]
  },
  {
   "cell_type": "code",
   "execution_count": 123,
   "id": "bea80a18",
   "metadata": {},
   "outputs": [
    {
     "data": {
      "text/plain": [
       "array([0.89521452, 0.92432432, 0.85785953, 0.88985256])"
      ]
     },
     "execution_count": 123,
     "metadata": {},
     "output_type": "execute_result"
    }
   ],
   "source": [
    "LR_result = np.array([accuracy_score(Y_test, y_pred),precision_score(Y_test, y_pred), recall_score(Y_test, y_pred),\n",
    "             f1_score(Y_test, y_pred)])\n",
    "LR_result"
   ]
  },
  {
   "cell_type": "markdown",
   "id": "6223ee2e",
   "metadata": {},
   "source": [
    "<B> RANDOM FOREST"
   ]
  },
  {
   "cell_type": "code",
   "execution_count": 124,
   "id": "4f0a02c0",
   "metadata": {},
   "outputs": [
    {
     "name": "stdout",
     "output_type": "stream",
     "text": [
      "Accuracy score on the training data:  0.9463696369636964\n",
      "Accuracy score on the test data:  0.8795379537953796\n",
      "              precision    recall  f1-score   support\n",
      "\n",
      "        FAKE       0.86      0.90      0.88       614\n",
      "        REAL       0.90      0.85      0.88       598\n",
      "\n",
      "    accuracy                           0.88      1212\n",
      "   macro avg       0.88      0.88      0.88      1212\n",
      "weighted avg       0.88      0.88      0.88      1212\n",
      "\n"
     ]
    }
   ],
   "source": [
    "RF = RandomForestClassifier()\n",
    "\n",
    "RF.fit(X_train, Y_train)\n",
    "\n",
    "# Accuracy Score on Training Data\n",
    "X_train_prediction_RF = RF.predict(X_train)\n",
    "training_data_accuracy = accuracy_score(X_train_prediction, Y_train)\n",
    "\n",
    "print('Accuracy score on the training data: ',training_data_accuracy)\n",
    "\n",
    "# Accuracy Score on Test Data\n",
    "X_test_prediction_RF = RF.predict(X_test)\n",
    "test_data_accuracy = accuracy_score(X_test_prediction_RF, Y_test)\n",
    "\n",
    "print('Accuracy score on the test data: ',test_data_accuracy)\n",
    "\n",
    "# classification report \n",
    "target_names = ['FAKE', 'REAL']\n",
    "y_pred_RF = RF.predict(X_test)\n",
    "print(classification_report(Y_test, y_pred_RF, target_names=target_names))"
   ]
  },
  {
   "cell_type": "code",
   "execution_count": 125,
   "id": "bafb9c08",
   "metadata": {},
   "outputs": [
    {
     "data": {
      "text/plain": [
       "array([[555,  59],\n",
       "       [ 87, 511]], dtype=int64)"
      ]
     },
     "execution_count": 125,
     "metadata": {},
     "output_type": "execute_result"
    }
   ],
   "source": [
    "# Build confusion matrix\n",
    "cm_rf = confusion_matrix(Y_test,X_test_prediction_RF)\n",
    "cm_rf"
   ]
  },
  {
   "cell_type": "code",
   "execution_count": 126,
   "id": "8965028a",
   "metadata": {},
   "outputs": [
    {
     "data": {
      "image/png": "[encoded data removed]",
      "text/plain": [
       "<Figure size 432x288 with 2 Axes>"
      ]
     },
     "metadata": {
      "needs_background": "light"
     },
     "output_type": "display_data"
    }
   ],
   "source": [
    "#plot cm\n",
    "group_names = ['True Neg','False Pos','False Neg','True Pos']\n",
    "\n",
    "group_counts = [\"{0:0.0f}\".format(value) for value in\n",
    "                cm_rf.flatten()]\n",
    "\n",
    "group_percentages = [\"{0:.2%}\".format(value) for value in\n",
    "                     cm_rf.flatten()/np.sum(cm_rf)]\n",
    "\n",
    "labels = [f\"{v1}\\n{v2}\\n{v3}\" for v1, v2, v3 in\n",
    "          zip(group_names,group_counts,group_percentages)]\n",
    "\n",
    "labels = np.asarray(labels).reshape(2,2)\n",
    "\n",
    "ax = sns.heatmap(cm_rf, annot=labels, fmt='', cmap='Reds')\n",
    "\n",
    "ax.set_title('Seaborn Confusion Matrix with labels\\n\\n');\n",
    "ax.set_xlabel('\\nPredicted Values')\n",
    "ax.set_ylabel('Actual Values ');\n",
    "\n",
    "## Ticket labels - List must be in alphabetical order\n",
    "ax.xaxis.set_ticklabels(['False','True'])\n",
    "ax.yaxis.set_ticklabels(['False','True'])\n",
    "\n",
    "## Display the visualization of the Confusion Matrix.\n",
    "plt.show()"
   ]
  },
  {
   "cell_type": "code",
   "execution_count": 127,
   "id": "ab8cb403",
   "metadata": {},
   "outputs": [
    {
     "data": {
      "text/plain": [
       "array([0.87953795, 0.89649123, 0.85451505, 0.875     ])"
      ]
     },
     "execution_count": 127,
     "metadata": {},
     "output_type": "execute_result"
    }
   ],
   "source": [
    "RF_result = np.array([accuracy_score(Y_test, y_pred_RF), precision_score(Y_test, y_pred_RF), recall_score(Y_test, y_pred_RF), \n",
    "             f1_score(Y_test, y_pred_RF)])\n",
    "RF_result"
   ]
  },
  {
   "cell_type": "markdown",
   "id": "00813a27",
   "metadata": {},
   "source": [
    "<B> SUPPORT VECTOR MACHINE"
   ]
  },
  {
   "cell_type": "code",
   "execution_count": 128,
   "id": "a82428ca",
   "metadata": {},
   "outputs": [
    {
     "name": "stdout",
     "output_type": "stream",
     "text": [
      "Accuracy score on the training data:  1.0\n",
      "Accuracy score on the test data:  0.9257425742574258\n"
     ]
    }
   ],
   "source": [
    "svm_clf = SVC(kernel=\"linear\", C=float(\"inf\"))\n",
    "SVM = svm_clf.fit(X, Y)\n",
    "\n",
    "SVM.fit(X_train, Y_train)\n",
    "\n",
    "# Accuracy Score on Training Data\n",
    "X_train_prediction_SVM = SVM.predict(X_train)\n",
    "training_data_accuracy = accuracy_score(X_train_prediction_SVM, Y_train)\n",
    "\n",
    "print('Accuracy score on the training data: ',training_data_accuracy)\n",
    "\n",
    "# Accuracy Score on Test Data\n",
    "X_test_prediction_SVM = SVM.predict(X_test)\n",
    "test_data_accuracy = accuracy_score(X_test_prediction_SVM, Y_test)\n",
    "\n",
    "print('Accuracy score on the test data: ',test_data_accuracy)"
   ]
  },
  {
   "cell_type": "code",
   "execution_count": 129,
   "id": "5dc38ea6",
   "metadata": {},
   "outputs": [
    {
     "name": "stdout",
     "output_type": "stream",
     "text": [
      "              precision    recall  f1-score   support\n",
      "\n",
      "        FAKE       0.92      0.94      0.93       614\n",
      "        REAL       0.93      0.91      0.92       598\n",
      "\n",
      "    accuracy                           0.93      1212\n",
      "   macro avg       0.93      0.93      0.93      1212\n",
      "weighted avg       0.93      0.93      0.93      1212\n",
      "\n"
     ]
    }
   ],
   "source": [
    "# classification report \n",
    "target_names = ['FAKE', 'REAL']\n",
    "y_pred_SVM = SVM.predict(X_test)\n",
    "print(classification_report(Y_test, y_pred_SVM, target_names=target_names))"
   ]
  },
  {
   "cell_type": "code",
   "execution_count": 130,
   "id": "7b573779",
   "metadata": {},
   "outputs": [
    {
     "data": {
      "text/plain": [
       "array([[575,  39],\n",
       "       [ 51, 547]], dtype=int64)"
      ]
     },
     "execution_count": 130,
     "metadata": {},
     "output_type": "execute_result"
    }
   ],
   "source": [
    "# Build confusion matrix\n",
    "cm_svm = confusion_matrix(Y_test,X_test_prediction_SVM)\n",
    "cm_svm"
   ]
  },
  {
   "cell_type": "code",
   "execution_count": 131,
   "id": "2adc58e4",
   "metadata": {},
   "outputs": [
    {
     "data": {
      "image/png": "[encoded data removed]",
      "text/plain": [
       "<Figure size 432x288 with 2 Axes>"
      ]
     },
     "metadata": {
      "needs_background": "light"
     },
     "output_type": "display_data"
    }
   ],
   "source": [
    "#plot cm\n",
    "group_names = ['True Neg','False Pos','False Neg','True Pos']\n",
    "\n",
    "group_counts = [\"{0:0.0f}\".format(value) for value in\n",
    "                cm_svm.flatten()]\n",
    "\n",
    "group_percentages = [\"{0:.2%}\".format(value) for value in\n",
    "                     cm_svm.flatten()/np.sum(cm_svm)]\n",
    "\n",
    "labels = [f\"{v1}\\n{v2}\\n{v3}\" for v1, v2, v3 in\n",
    "          zip(group_names,group_counts,group_percentages)]\n",
    "\n",
    "labels = np.asarray(labels).reshape(2,2)\n",
    "\n",
    "ax = sns.heatmap(cm_svm, annot=labels, fmt='', cmap='Reds')\n",
    "\n",
    "ax.set_title('Seaborn Confusion Matrix with labels\\n\\n');\n",
    "ax.set_xlabel('\\nPredicted Values')\n",
    "ax.set_ylabel('Actual Values ');\n",
    "\n",
    "## Ticket labels - List must be in alphabetical order\n",
    "ax.xaxis.set_ticklabels(['False','True'])\n",
    "ax.yaxis.set_ticklabels(['False','True'])\n",
    "\n",
    "## Display the visualization of the Confusion Matrix.\n",
    "plt.show()"
   ]
  },
  {
   "cell_type": "code",
   "execution_count": 132,
   "id": "d4ff9dd5",
   "metadata": {},
   "outputs": [
    {
     "data": {
      "text/plain": [
       "array([0.92574257, 0.9334471 , 0.91471572, 0.92398649])"
      ]
     },
     "execution_count": 132,
     "metadata": {},
     "output_type": "execute_result"
    }
   ],
   "source": [
    "SVM_result = np.array([accuracy_score(Y_test, y_pred_SVM), precision_score(Y_test, y_pred_SVM), recall_score(Y_test, y_pred_SVM), \n",
    "             f1_score(Y_test, y_pred_SVM)])\n",
    "SVM_result"
   ]
  },
  {
   "cell_type": "markdown",
   "id": "acd46ca5",
   "metadata": {},
   "source": [
    "<B> XGBOOST"
   ]
  },
  {
   "cell_type": "code",
   "execution_count": 133,
   "id": "beb99f06",
   "metadata": {},
   "outputs": [
    {
     "name": "stderr",
     "output_type": "stream",
     "text": [
      "C:\\Users\\Ειρήνη\\AppData\\Roaming\\Python\\Python38\\site-packages\\xgboost\\sklearn.py:1224: UserWarning: The use of label encoder in XGBClassifier is deprecated and will be removed in a future release. To remove this warning, do the following: 1) Pass option use_label_encoder=False when constructing XGBClassifier object; and 2) Encode your labels (y) as integers starting with 0, i.e. 0, 1, 2, ..., [num_class - 1].\n",
      "  warnings.warn(label_encoder_deprecation_msg, UserWarning)\n"
     ]
    },
    {
     "name": "stdout",
     "output_type": "stream",
     "text": [
      "[17:09:08] WARNING: C:/Users/Administrator/workspace/xgboost-win64_release_1.5.0/src/learner.cc:1115: Starting in XGBoost 1.3.0, the default evaluation metric used with the objective 'binary:logistic' was changed from 'error' to 'logloss'. Explicitly set eval_metric if you'd like to restore the old behavior.\n",
      "Accuracy score on the training data:  1.0\n",
      "Accuracy score on the test data:  0.9125412541254125\n"
     ]
    }
   ],
   "source": [
    "XGB = XGBClassifier()\n",
    "\n",
    "XGB.fit(X_train, Y_train)\n",
    "\n",
    "# Accuracy Score on Training Data\n",
    "X_train_prediction_XGB = XGB.predict(X_train)\n",
    "training_data_accuracy = accuracy_score(X_train_prediction_XGB, Y_train)\n",
    "\n",
    "print('Accuracy score on the training data: ',training_data_accuracy)\n",
    "\n",
    "# Accuracy Score on Test Data\n",
    "X_test_prediction_XGB = XGB.predict(X_test)\n",
    "test_data_accuracy = accuracy_score(X_test_prediction_XGB, Y_test)\n",
    "\n",
    "print('Accuracy score on the test data: ',test_data_accuracy)"
   ]
  },
  {
   "cell_type": "code",
   "execution_count": 134,
   "id": "b9d20f18",
   "metadata": {},
   "outputs": [
    {
     "name": "stdout",
     "output_type": "stream",
     "text": [
      "              precision    recall  f1-score   support\n",
      "\n",
      "        FAKE       0.90      0.93      0.92       614\n",
      "        REAL       0.93      0.89      0.91       598\n",
      "\n",
      "    accuracy                           0.91      1212\n",
      "   macro avg       0.91      0.91      0.91      1212\n",
      "weighted avg       0.91      0.91      0.91      1212\n",
      "\n"
     ]
    }
   ],
   "source": [
    "# classification report \n",
    "target_names = ['FAKE', 'REAL']\n",
    "y_pred_XGB= XGB.predict(X_test)\n",
    "print(classification_report(Y_test, y_pred_XGB, target_names=target_names))"
   ]
  },
  {
   "cell_type": "code",
   "execution_count": 135,
   "id": "a46c245e",
   "metadata": {},
   "outputs": [
    {
     "data": {
      "text/plain": [
       "array([[574,  40],\n",
       "       [ 66, 532]], dtype=int64)"
      ]
     },
     "execution_count": 135,
     "metadata": {},
     "output_type": "execute_result"
    }
   ],
   "source": [
    "# Build confusion matrix\n",
    "cm_xgb = confusion_matrix(Y_test,X_test_prediction_XGB)\n",
    "cm_xgb"
   ]
  },
  {
   "cell_type": "code",
   "execution_count": 136,
   "id": "e01549ae",
   "metadata": {},
   "outputs": [
    {
     "data": {
      "image/png": "[encoded data removed]",
      "text/plain": [
       "<Figure size 432x288 with 2 Axes>"
      ]
     },
     "metadata": {
      "needs_background": "light"
     },
     "output_type": "display_data"
    }
   ],
   "source": [
    "#plot cm\n",
    "group_names = ['True Neg','False Pos','False Neg','True Pos']\n",
    "\n",
    "group_counts = [\"{0:0.0f}\".format(value) for value in\n",
    "                cm_xgb.flatten()]\n",
    "\n",
    "group_percentages = [\"{0:.2%}\".format(value) for value in\n",
    "                     cm_xgb.flatten()/np.sum(cm_xgb)]\n",
    "\n",
    "labels = [f\"{v1}\\n{v2}\\n{v3}\" for v1, v2, v3 in\n",
    "          zip(group_names,group_counts,group_percentages)]\n",
    "\n",
    "labels = np.asarray(labels).reshape(2,2)\n",
    "\n",
    "ax = sns.heatmap(cm_xgb, annot=labels, fmt='', cmap='Reds')\n",
    "\n",
    "ax.set_title('Seaborn Confusion Matrix with labels\\n\\n');\n",
    "ax.set_xlabel('\\nPredicted Values')\n",
    "ax.set_ylabel('Actual Values ');\n",
    "\n",
    "## Ticket labels - List must be in alphabetical order\n",
    "ax.xaxis.set_ticklabels(['False','True'])\n",
    "ax.yaxis.set_ticklabels(['False','True'])\n",
    "\n",
    "## Display the visualization of the Confusion Matrix.\n",
    "plt.show()"
   ]
  },
  {
   "cell_type": "code",
   "execution_count": 137,
   "id": "44cadc21",
   "metadata": {},
   "outputs": [
    {
     "data": {
      "text/plain": [
       "array([0.91254125, 0.93006993, 0.88963211, 0.90940171])"
      ]
     },
     "execution_count": 137,
     "metadata": {},
     "output_type": "execute_result"
    }
   ],
   "source": [
    "XGB_result = np.array([accuracy_score(Y_test, y_pred_XGB),precision_score(Y_test, y_pred_XGB), recall_score(Y_test, y_pred_XGB),\n",
    "             f1_score(Y_test, y_pred_XGB) ])\n",
    "XGB_result"
   ]
  },
  {
   "cell_type": "markdown",
   "id": "d56ef5f2",
   "metadata": {},
   "source": [
    "<B> DECISION TREE"
   ]
  },
  {
   "cell_type": "code",
   "execution_count": 138,
   "id": "43a2b4c5",
   "metadata": {},
   "outputs": [
    {
     "name": "stdout",
     "output_type": "stream",
     "text": [
      "Accuracy score on the training data:  1.0\n",
      "Accuracy score on the test data:  0.8094059405940595\n"
     ]
    }
   ],
   "source": [
    "DT = DecisionTreeClassifier()\n",
    "\n",
    "DT.fit(X_train, Y_train)\n",
    "\n",
    "# Accuracy Score on Training Data\n",
    "X_train_prediction_DT = DT.predict(X_train)\n",
    "training_data_accuracy = accuracy_score(X_train_prediction_DT, Y_train)\n",
    "\n",
    "print('Accuracy score on the training data: ',training_data_accuracy)\n",
    "\n",
    "# Accuracy Score on Test Data\n",
    "X_test_prediction_DT = DT.predict(X_test)\n",
    "test_data_accuracy = accuracy_score(X_test_prediction_DT, Y_test)\n",
    "\n",
    "print('Accuracy score on the test data: ',test_data_accuracy)"
   ]
  },
  {
   "cell_type": "code",
   "execution_count": 139,
   "id": "799c25be",
   "metadata": {},
   "outputs": [
    {
     "name": "stdout",
     "output_type": "stream",
     "text": [
      "              precision    recall  f1-score   support\n",
      "\n",
      "        FAKE       0.81      0.81      0.81       614\n",
      "        REAL       0.81      0.81      0.81       598\n",
      "\n",
      "    accuracy                           0.81      1212\n",
      "   macro avg       0.81      0.81      0.81      1212\n",
      "weighted avg       0.81      0.81      0.81      1212\n",
      "\n"
     ]
    }
   ],
   "source": [
    "# classification report \n",
    "target_names = ['FAKE', 'REAL']\n",
    "y_pred_DT= DT.predict(X_test)\n",
    "print(classification_report(Y_test, y_pred_DT, target_names=target_names))"
   ]
  },
  {
   "cell_type": "code",
   "execution_count": 140,
   "id": "c268f936",
   "metadata": {},
   "outputs": [
    {
     "data": {
      "text/plain": [
       "array([[498, 116],\n",
       "       [115, 483]], dtype=int64)"
      ]
     },
     "execution_count": 140,
     "metadata": {},
     "output_type": "execute_result"
    }
   ],
   "source": [
    "# Build confusion matrix\n",
    "cm_dt = confusion_matrix(Y_test,X_test_prediction_DT)\n",
    "cm_dt"
   ]
  },
  {
   "cell_type": "code",
   "execution_count": 141,
   "id": "b9333771",
   "metadata": {},
   "outputs": [
    {
     "data": {
      "image/png": "[encoded data removed]",
      "text/plain": [
       "<Figure size 432x288 with 2 Axes>"
      ]
     },
     "metadata": {
      "needs_background": "light"
     },
     "output_type": "display_data"
    }
   ],
   "source": [
    "#plot cm\n",
    "group_names = ['True Neg','False Pos','False Neg','True Pos']\n",
    "\n",
    "group_counts = [\"{0:0.0f}\".format(value) for value in\n",
    "                cm_dt.flatten()]\n",
    "\n",
    "group_percentages = [\"{0:.2%}\".format(value) for value in\n",
    "                     cm_dt.flatten()/np.sum(cm_dt)]\n",
    "\n",
    "labels = [f\"{v1}\\n{v2}\\n{v3}\" for v1, v2, v3 in\n",
    "          zip(group_names,group_counts,group_percentages)]\n",
    "\n",
    "labels = np.asarray(labels).reshape(2,2)\n",
    "\n",
    "ax = sns.heatmap(cm_dt, annot=labels, fmt='', cmap='Reds')\n",
    "\n",
    "ax.set_title('Seaborn Confusion Matrix with labels\\n\\n');\n",
    "ax.set_xlabel('\\nPredicted Values')\n",
    "ax.set_ylabel('Actual Values ');\n",
    "\n",
    "## Ticket labels - List must be in alphabetical order\n",
    "ax.xaxis.set_ticklabels(['False','True'])\n",
    "ax.yaxis.set_ticklabels(['False','True'])\n",
    "\n",
    "## Display the visualization of the Confusion Matrix.\n",
    "plt.show()"
   ]
  },
  {
   "cell_type": "code",
   "execution_count": 142,
   "id": "72d6857c",
   "metadata": {},
   "outputs": [
    {
     "data": {
      "text/plain": [
       "array([0.80940594, 0.80634391, 0.80769231, 0.80701754])"
      ]
     },
     "execution_count": 142,
     "metadata": {},
     "output_type": "execute_result"
    }
   ],
   "source": [
    "DT_result = np.array([accuracy_score(Y_test, y_pred_DT),precision_score(Y_test, y_pred_DT), recall_score(Y_test, y_pred_DT),\n",
    "             f1_score(Y_test, y_pred_DT) ])\n",
    "DT_result"
   ]
  },
  {
   "cell_type": "markdown",
   "id": "ad222c43",
   "metadata": {},
   "source": [
    "<B> GRAPHS"
   ]
  },
  {
   "cell_type": "code",
   "execution_count": 143,
   "id": "120f59f9",
   "metadata": {},
   "outputs": [],
   "source": [
    "Y1 = np.array(LR_result[:1])\n",
    "Y2 = np.array(RF_result[:1])\n",
    "Y3 = np.array(XGB_result[:1])\n",
    "Y4 = np.array(SVM_result[:1])\n",
    "Y5 = np.array(DT_result[:1])"
   ]
  },
  {
   "cell_type": "code",
   "execution_count": 152,
   "id": "ca1fd8cb",
   "metadata": {},
   "outputs": [
    {
     "data": {
      "image/png": "[encoded data removed]",
      "text/plain": [
       "<Figure size 936x504 with 1 Axes>"
      ]
     },
     "metadata": {
      "needs_background": "light"
     },
     "output_type": "display_data"
    }
   ],
   "source": [
    "plt.figure(figsize=(13,7))\n",
    "n = 1\n",
    "X = np.arange(n)+1\n",
    "plt.xticks([1.6],[r'$Accuracy$'])\n",
    "plt.bar(X,Y1,width = 0.3,facecolor = 'lightskyblue',edgecolor = 'white',label='LR')\n",
    "plt.bar(X+0.3,Y2,width = 0.3,facecolor = 'yellowgreen',edgecolor = 'white',label='RF')\n",
    "plt.bar(X+0.6, Y3, width = 0.3,facecolor = 'coral',edgecolor = 'white',label='XGB')\n",
    "plt.bar(X+0.9, Y4, width = 0.3,facecolor = 'grey',edgecolor = 'white',label='SVM')\n",
    "plt.bar(X+1.2, Y5, width = 0.3,facecolor = 'lightgreen',edgecolor = 'white',label='DT')\n",
    "\n",
    "for x,y in zip(X,Y1):\n",
    "    plt.text(x, y, '%.2f'% y , ha='center', va= 'bottom')\n",
    "for x,y in zip(X,Y2):\n",
    "    plt.text(x+0.3, y, '%.2f' % y, ha='center', va= 'bottom')\n",
    "for x,y in zip(X,Y3):\n",
    "    plt.text(x+0.6, y, '%.2f' % y, ha='center', va= 'bottom')\n",
    "for x,y in zip(X,Y4):\n",
    "    plt.text(x+0.9, y, '%.2f' % y, ha='center', va= 'bottom')\n",
    "for x,y in zip(X,Y5):\n",
    "    plt.text(x+1.2, y, '%.2f' % y, ha='center', va= 'bottom' )    \n",
    "\n",
    "    plt.ylabel('Value')\n",
    "plt.ylim(0,+1.1)\n",
    "plt.legend()\n",
    "plt.show()"
   ]
  },
  {
   "cell_type": "code",
   "execution_count": 158,
   "id": "b35d410f",
   "metadata": {},
   "outputs": [],
   "source": [
    "y1 = np.array([precision_score(Y_test, y_pred)])\n",
    "y2 = np.array([precision_score(Y_test, y_pred_RF)])\n",
    "y3 = np.array([precision_score(Y_test, y_pred_XGB)])\n",
    "y4 = np.array([precision_score(Y_test, y_pred_SVM)])\n",
    "y5 = np.array([precision_score(Y_test, y_pred_DT)])"
   ]
  },
  {
   "cell_type": "code",
   "execution_count": 159,
   "id": "0dfe9d46",
   "metadata": {},
   "outputs": [
    {
     "data": {
      "image/png": "[encoded data removed]",
      "text/plain": [
       "<Figure size 936x504 with 1 Axes>"
      ]
     },
     "metadata": {
      "needs_background": "light"
     },
     "output_type": "display_data"
    }
   ],
   "source": [
    "plt.figure(figsize=(13,7))\n",
    "n = 1\n",
    "X = np.arange(n)+1\n",
    "plt.xticks([1.7],[r'$Precision$'])\n",
    "plt.bar(X,y1,width = 0.3,facecolor = 'lightskyblue',edgecolor = 'white',label='LR')\n",
    "plt.bar(X+0.3,y2,width = 0.3,facecolor = 'yellowgreen',edgecolor = 'white',label='RF')\n",
    "plt.bar(X+0.6, y3, width = 0.3,facecolor = 'coral',edgecolor = 'white',label='XGB')\n",
    "plt.bar(X+0.9, y4, width = 0.3,facecolor = 'grey',edgecolor = 'white',label='SVM')\n",
    "plt.bar(X+1.2, y5, width = 0.3,facecolor = 'lightgreen',edgecolor = 'white',label='DT')\n",
    "\n",
    "\n",
    "for x,y in zip(X,y1):\n",
    "    plt.text(x, y, '%.2f'% y , ha='center', va= 'bottom')\n",
    "for x,y in zip(X,y2):\n",
    "    plt.text(x+0.3, y, '%.2f' % y, ha='center', va= 'bottom')\n",
    "for x,y in zip(X,y3):\n",
    "    plt.text(x+0.6, y, '%.2f' % y, ha='center', va= 'bottom')\n",
    "for x,y in zip(X,y4):\n",
    "    plt.text(x+0.9, y, '%.2f' % y, ha='center', va= 'bottom')\n",
    "for x,y in zip(X,y5):\n",
    "    plt.text(x+1.2, y, '%.2f' % y, ha='center', va= 'bottom' )  \n",
    "\n",
    "plt.ylabel('Value')\n",
    "plt.ylim(0,+1.1)\n",
    "plt.legend()\n",
    "plt.show()"
   ]
  },
  {
   "cell_type": "code",
   "execution_count": 160,
   "id": "548588f1",
   "metadata": {},
   "outputs": [],
   "source": [
    "z1 = np.array([recall_score(Y_test, y_pred)])\n",
    "z2 = np.array([recall_score(Y_test, y_pred_RF)])\n",
    "z3 = np.array([recall_score(Y_test, y_pred_XGB)])\n",
    "z4 = np.array([recall_score(Y_test, y_pred_SVM)])\n",
    "z5 = np.array([recall_score(Y_test, y_pred_DT)])"
   ]
  },
  {
   "cell_type": "code",
   "execution_count": 161,
   "id": "0515ba7a",
   "metadata": {},
   "outputs": [
    {
     "data": {
      "image/png": "[encoded data removed]",
      "text/plain": [
       "<Figure size 936x504 with 1 Axes>"
      ]
     },
     "metadata": {
      "needs_background": "light"
     },
     "output_type": "display_data"
    }
   ],
   "source": [
    "plt.figure(figsize=(13,7))\n",
    "n = 1\n",
    "X = np.arange(n)+1\n",
    "plt.xticks([1.7],[r'$Recall$'])\n",
    "plt.bar(X,y1,width = 0.3,facecolor = 'lightskyblue',edgecolor = 'white',label='LR')\n",
    "plt.bar(X+0.3,z2,width = 0.3,facecolor = 'yellowgreen',edgecolor = 'white',label='RF')\n",
    "plt.bar(X+0.6, z3, width = 0.3,facecolor = 'coral',edgecolor = 'white',label='XGB')\n",
    "plt.bar(X+0.9, z4, width = 0.3,facecolor = 'grey',edgecolor = 'white',label='SVM')\n",
    "plt.bar(X+1.2, z5, width = 0.3,facecolor = 'lightgreen',edgecolor = 'white',label='DT')\n",
    "\n",
    "for x,y in zip(X,z1):\n",
    "    plt.text(x, y, '%.2f'% y , ha='center', va= 'bottom')\n",
    "for x,y in zip(X,z2):\n",
    "    plt.text(x+0.3, y, '%.2f' % y, ha='center', va= 'bottom')\n",
    "for x,y in zip(X,z3):\n",
    "    plt.text(x+0.6, y, '%.2f' % y, ha='center', va= 'bottom')\n",
    "for x,y in zip(X,z4):\n",
    "    plt.text(x+0.9, y, '%.2f' % y, ha='center', va= 'bottom')\n",
    "for x,y in zip(X,z5):\n",
    "    plt.text(x+1.2, y, '%.2f' % y, ha='center', va= 'bottom' )  \n",
    "\n",
    "plt.ylabel('Value')\n",
    "plt.ylim(0,+1.1)\n",
    "plt.legend()\n",
    "plt.show()"
   ]
  },
  {
   "cell_type": "code",
   "execution_count": 162,
   "id": "92877925",
   "metadata": {},
   "outputs": [],
   "source": [
    "v1 = np.array([f1_score(Y_test, y_pred)])\n",
    "v2 = np.array([f1_score(Y_test, y_pred_RF)])\n",
    "v3 = np.array([f1_score(Y_test, y_pred_XGB)])\n",
    "v4 = np.array([f1_score(Y_test, y_pred_SVM)])\n",
    "v5 = np.array([f1_score(Y_test, y_pred_DT)])\n"
   ]
  },
  {
   "cell_type": "code",
   "execution_count": 163,
   "id": "dad188d5",
   "metadata": {},
   "outputs": [
    {
     "data": {
      "image/png": "[encoded data removed]",
      "text/plain": [
       "<Figure size 936x504 with 1 Axes>"
      ]
     },
     "metadata": {
      "needs_background": "light"
     },
     "output_type": "display_data"
    }
   ],
   "source": [
    "plt.figure(figsize=(13,7))\n",
    "n = 1\n",
    "X = np.arange(n)+1\n",
    "plt.xticks([1.7],[r'$F1$'])\n",
    "plt.bar(X,y1,width = 0.3,facecolor = 'lightskyblue',edgecolor = 'white',label='LR')\n",
    "plt.bar(X+0.3,v2,width = 0.3,facecolor = 'yellowgreen',edgecolor = 'white',label='RF')\n",
    "plt.bar(X+0.6, v3, width = 0.3,facecolor = 'coral',edgecolor = 'white',label='XGB')\n",
    "plt.bar(X+0.9, v4, width = 0.3,facecolor = 'grey',edgecolor = 'white',label='SVM')\n",
    "plt.bar(X+1.2, v5, width = 0.3,facecolor = 'lightgreen',edgecolor = 'white',label='DT')\n",
    "\n",
    "\n",
    "for x,y in zip(X,v1):\n",
    "    plt.text(x, y, '%.2f'% y , ha='center', va= 'bottom')\n",
    "for x,y in zip(X,v2):\n",
    "    plt.text(x+0.3, y, '%.2f' % y, ha='center', va= 'bottom')\n",
    "for x,y in zip(X,v3):\n",
    "    plt.text(x+0.6, y, '%.2f' % y, ha='center', va= 'bottom')\n",
    "for x,y in zip(X,v4):\n",
    "    plt.text(x+0.9, y, '%.2f' % y, ha='center', va= 'bottom')\n",
    "for x,y in zip(X,v5):\n",
    "    plt.text(x+1.2, y, '%.2f' % y, ha='center', va= 'bottom' )  \n",
    "\n",
    "plt.ylabel('Value')\n",
    "plt.ylim(0,+1.1)\n",
    "plt.legend()\n",
    "plt.show()"
   ]
  },
  {
   "cell_type": "code",
   "execution_count": 164,
   "id": "03422bec",
   "metadata": {},
   "outputs": [
    {
     "data": {
      "image/png": "[encoded data removed]",
      "text/plain": [
       "<Figure size 432x288 with 1 Axes>"
      ]
     },
     "metadata": {
      "needs_background": "light"
     },
     "output_type": "display_data"
    }
   ],
   "source": [
    "data = [LR_result[3], RF_result[3],XGB_result[3],SVM_result[3],DT_result[3]]\n",
    "plt.barh(range(len(data)), data)\n",
    "plt.yticks([0,1,2,3,4],[r'$LR$', r'$RF$', r'$XGB$',r'$SVM$',r'$DT$'])\n",
    "plt.xlabel('Time')\n",
    "plt.ylabel('Models')\n",
    "plt.show()"
   ]
  },
  {
   "cell_type": "markdown",
   "id": "030d4d09",
   "metadata": {},
   "source": [
    "<B> PREDICTIONS"
   ]
  },
  {
   "cell_type": "code",
   "execution_count": 165,
   "id": "1b1dcfb2",
   "metadata": {},
   "outputs": [
    {
     "name": "stdout",
     "output_type": "stream",
     "text": [
      "The news is Real\n"
     ]
    }
   ],
   "source": [
    "X_new = X_test[4]\n",
    "prediction = LR.predict(X_new)\n",
    "\n",
    "if (prediction[0]==1):\n",
    "    print('The news is Real')\n",
    "else:\n",
    "    print('The news is Fake')"
   ]
  },
  {
   "cell_type": "code",
   "execution_count": 166,
   "id": "04f82deb",
   "metadata": {},
   "outputs": [
    {
     "name": "stdout",
     "output_type": "stream",
     "text": [
      "The news is Real\n"
     ]
    }
   ],
   "source": [
    "X_new = X_test[4]\n",
    "prediction = RF.predict(X_new)\n",
    "\n",
    "if (prediction[0]==1):\n",
    "    print('The news is Real')\n",
    "else:\n",
    "    print('The news is Fake')"
   ]
  },
  {
   "cell_type": "code",
   "execution_count": 167,
   "id": "82e6a700",
   "metadata": {},
   "outputs": [
    {
     "name": "stdout",
     "output_type": "stream",
     "text": [
      "The news is Real\n"
     ]
    }
   ],
   "source": [
    "X_new = X_test[4]\n",
    "prediction = SVM.predict(X_new)\n",
    "\n",
    "if (prediction[0]==1):\n",
    "    print('The news is Real')\n",
    "else:\n",
    "    print('The news is Fake')"
   ]
  },
  {
   "cell_type": "code",
   "execution_count": 169,
   "id": "b391ec2c",
   "metadata": {},
   "outputs": [
    {
     "name": "stdout",
     "output_type": "stream",
     "text": [
      "The news is Fake\n"
     ]
    }
   ],
   "source": [
    "X_new = X_test[100]\n",
    "prediction = XGB.predict(X_new)\n",
    "\n",
    "if (prediction[0]==1):\n",
    "    print('The news is Real')\n",
    "else:\n",
    "    print('The news is Fake')"
   ]
  },
  {
   "cell_type": "code",
   "execution_count": 154,
   "id": "ceba2cd0",
   "metadata": {},
   "outputs": [
    {
     "name": "stdout",
     "output_type": "stream",
     "text": [
      "[0]\n",
      "The news is Fake\n"
     ]
    }
   ],
   "source": [
    "X_new = X_test[97]\n",
    "prediction = DT.predict(X_new)\n",
    "print(prediction)\n",
    "\n",
    "if (prediction[0]==1):\n",
    "    print('The news is Real')\n",
    "else:\n",
    "    print('The news is Fake')"
   ]
  },
  {
   "cell_type": "code",
   "execution_count": 151,
   "id": "305f7959",
   "metadata": {},
   "outputs": [
    {
     "data": {
      "text/html": [
       "<div>\n",
       "<style scoped>\n",
       "    .dataframe tbody tr th:only-of-type {\n",
       "        vertical-align: middle;\n",
       "    }\n",
       "\n",
       "    .dataframe tbody tr th {\n",
       "        vertical-align: top;\n",
       "    }\n",
       "\n",
       "    .dataframe thead th {\n",
       "        text-align: right;\n",
       "    }\n",
       "</style>\n",
       "<table border=\"1\" class=\"dataframe\">\n",
       "  <thead>\n",
       "    <tr style=\"text-align: right;\">\n",
       "      <th></th>\n",
       "      <th>Unnamed: 0</th>\n",
       "      <th>title</th>\n",
       "      <th>text</th>\n",
       "      <th>label</th>\n",
       "      <th>data</th>\n",
       "    </tr>\n",
       "  </thead>\n",
       "  <tbody>\n",
       "    <tr>\n",
       "      <th>3</th>\n",
       "      <td>10142</td>\n",
       "      <td>Bernie supporters on Twitter erupt in anger ag...</td>\n",
       "      <td>— Kaydee King (@KaydeeKing) November 9, 2016 T...</td>\n",
       "      <td>0</td>\n",
       "      <td>kaydee king kaydeeking november the lesson fro...</td>\n",
       "    </tr>\n",
       "    <tr>\n",
       "      <th>4</th>\n",
       "      <td>875</td>\n",
       "      <td>The Battle of New York: Why This Primary Matters</td>\n",
       "      <td>It's primary day in New York and front-runners...</td>\n",
       "      <td>1</td>\n",
       "      <td>it s primary day in new york and front runners...</td>\n",
       "    </tr>\n",
       "    <tr>\n",
       "      <th>5</th>\n",
       "      <td>6903</td>\n",
       "      <td>Tehran, USA</td>\n",
       "      <td>\\nI’m not an immigrant, but my grandparents ...</td>\n",
       "      <td>0</td>\n",
       "      <td>i m not an immigrant but my grandparents are m...</td>\n",
       "    </tr>\n",
       "    <tr>\n",
       "      <th>6</th>\n",
       "      <td>7341</td>\n",
       "      <td>Girl Horrified At What She Watches Boyfriend D...</td>\n",
       "      <td>Share This Baylee Luciani (left), Screenshot o...</td>\n",
       "      <td>0</td>\n",
       "      <td>share this baylee luciani left screenshot of w...</td>\n",
       "    </tr>\n",
       "    <tr>\n",
       "      <th>7</th>\n",
       "      <td>95</td>\n",
       "      <td>‘Britain’s Schindler’ Dies at 106</td>\n",
       "      <td>A Czech stockbroker who saved more than 650 Je...</td>\n",
       "      <td>1</td>\n",
       "      <td>a czech stockbroker who saved more than jewish...</td>\n",
       "    </tr>\n",
       "    <tr>\n",
       "      <th>...</th>\n",
       "      <td>...</td>\n",
       "      <td>...</td>\n",
       "      <td>...</td>\n",
       "      <td>...</td>\n",
       "      <td>...</td>\n",
       "    </tr>\n",
       "    <tr>\n",
       "      <th>97</th>\n",
       "      <td>3255</td>\n",
       "      <td>Give Social Security recipients a CEO-style raise</td>\n",
       "      <td>(CNN) On Veterans Day we recognize and honor t...</td>\n",
       "      <td>1</td>\n",
       "      <td>cnn on veterans day we recognize and honor the...</td>\n",
       "    </tr>\n",
       "    <tr>\n",
       "      <th>98</th>\n",
       "      <td>3177</td>\n",
       "      <td>Fireworks erupt between Trump and Bush, Rubio ...</td>\n",
       "      <td>Sparks flew at the toughest and liveliest GOP ...</td>\n",
       "      <td>1</td>\n",
       "      <td>sparks flew at the toughest and liveliest gop ...</td>\n",
       "    </tr>\n",
       "    <tr>\n",
       "      <th>99</th>\n",
       "      <td>2832</td>\n",
       "      <td>Obama, sounding like his critics, admits no 'c...</td>\n",
       "      <td>The online comment fits closely with his campa...</td>\n",
       "      <td>1</td>\n",
       "      <td>the online comment fits closely with his campa...</td>\n",
       "    </tr>\n",
       "    <tr>\n",
       "      <th>100</th>\n",
       "      <td>4294</td>\n",
       "      <td>How Ted Cruz Became Ted Cruz</td>\n",
       "      <td>In 2008, in the high-profile Supreme Court gun...</td>\n",
       "      <td>1</td>\n",
       "      <td>in in the high profile supreme court gun right...</td>\n",
       "    </tr>\n",
       "    <tr>\n",
       "      <th>101</th>\n",
       "      <td>5316</td>\n",
       "      <td>Newly Approved GM Potatoes Have Potential to S...</td>\n",
       "      <td>Late last week, the US Department of Agricultu...</td>\n",
       "      <td>0</td>\n",
       "      <td>late last week the us department of agricultur...</td>\n",
       "    </tr>\n",
       "  </tbody>\n",
       "</table>\n",
       "<p>97 rows × 5 columns</p>\n",
       "</div>"
      ],
      "text/plain": [
       "     Unnamed: 0                                              title  \\\n",
       "3         10142  Bernie supporters on Twitter erupt in anger ag...   \n",
       "4           875   The Battle of New York: Why This Primary Matters   \n",
       "5          6903                                        Tehran, USA   \n",
       "6          7341  Girl Horrified At What She Watches Boyfriend D...   \n",
       "7            95                  ‘Britain’s Schindler’ Dies at 106   \n",
       "..          ...                                                ...   \n",
       "97         3255  Give Social Security recipients a CEO-style raise   \n",
       "98         3177  Fireworks erupt between Trump and Bush, Rubio ...   \n",
       "99         2832  Obama, sounding like his critics, admits no 'c...   \n",
       "100        4294                       How Ted Cruz Became Ted Cruz   \n",
       "101        5316  Newly Approved GM Potatoes Have Potential to S...   \n",
       "\n",
       "                                                  text  label  \\\n",
       "3    — Kaydee King (@KaydeeKing) November 9, 2016 T...      0   \n",
       "4    It's primary day in New York and front-runners...      1   \n",
       "5      \\nI’m not an immigrant, but my grandparents ...      0   \n",
       "6    Share This Baylee Luciani (left), Screenshot o...      0   \n",
       "7    A Czech stockbroker who saved more than 650 Je...      1   \n",
       "..                                                 ...    ...   \n",
       "97   (CNN) On Veterans Day we recognize and honor t...      1   \n",
       "98   Sparks flew at the toughest and liveliest GOP ...      1   \n",
       "99   The online comment fits closely with his campa...      1   \n",
       "100  In 2008, in the high-profile Supreme Court gun...      1   \n",
       "101  Late last week, the US Department of Agricultu...      0   \n",
       "\n",
       "                                                  data  \n",
       "3    kaydee king kaydeeking november the lesson fro...  \n",
       "4    it s primary day in new york and front runners...  \n",
       "5    i m not an immigrant but my grandparents are m...  \n",
       "6    share this baylee luciani left screenshot of w...  \n",
       "7    a czech stockbroker who saved more than jewish...  \n",
       "..                                                 ...  \n",
       "97   cnn on veterans day we recognize and honor the...  \n",
       "98   sparks flew at the toughest and liveliest gop ...  \n",
       "99   the online comment fits closely with his campa...  \n",
       "100  in in the high profile supreme court gun right...  \n",
       "101  late last week the us department of agricultur...  \n",
       "\n",
       "[97 rows x 5 columns]"
      ]
     },
     "execution_count": 151,
     "metadata": {},
     "output_type": "execute_result"
    }
   ],
   "source": [
    "news_dataset_2[3:100]"
   ]
  },
  {
   "cell_type": "code",
   "execution_count": null,
   "id": "6c57d405",
   "metadata": {},
   "outputs": [],
   "source": []
  }
 ],
 "metadata": {
  "kernelspec": {
   "display_name": "Python 3",
   "language": "python",
   "name": "python3"
  },
  "language_info": {
   "codemirror_mode": {
    "name": "ipython",
    "version": 3
   },
   "file_extension": ".py",
   "mimetype": "text/x-python",
   "name": "python",
   "nbconvert_exporter": "python",
   "pygments_lexer": "ipython3",
   "version": "3.8.8"
  }
 },
 "nbformat": 4,
 "nbformat_minor": 5
}
